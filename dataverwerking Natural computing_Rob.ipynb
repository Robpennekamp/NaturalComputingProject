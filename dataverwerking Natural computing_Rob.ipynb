{
 "cells": [
  {
   "cell_type": "code",
   "execution_count": 1,
   "id": "e165badd",
   "metadata": {},
   "outputs": [],
   "source": [
    "import pandas as pd\n",
    "import matplotlib.pyplot as plt\n",
    "import numpy as np\n",
    "import os\n",
    "import math\n",
    "from scipy.stats import f_oneway\n",
    "\n",
    "def readfile(filename):\n",
    "    # Get the data from the file\n",
    "    file = os.path.join(os.getcwd(), 'output', 'files', str(filename))\n",
    "    df = pd.read_csv(file, index_col=False)\n",
    "\n",
    "    # Drop unnecessary columns, get exit and entry frame.\n",
    "    df = df.drop(['Cell kind', 'Coordinates'], axis=1)\n",
    "    df['exit'] = df.loc[df['Event'] == 'exit', 'Frame'].astype(float)\n",
    "    df['entry'] = df.loc[df['Event'] == 'entry', 'Frame'].astype(float)\n",
    "    df = df.drop(['Event', 'Frame'], axis=1)\n",
    "\n",
    "    # Get run number\n",
    "    df['Run'] = np.nan\n",
    "    run = 1\n",
    "    for i, row in df.iterrows():\n",
    "        if row[0] == 'ID':\n",
    "            run += 1\n",
    "        else:\n",
    "            df.at[i, 'Run'] = run\n",
    "\n",
    "    # Group runs and remove info of cells which haven't finished (last 20)\n",
    "    df = df[df['ID'] != 'ID']\n",
    "    dfs = [x for _, x in df.groupby('Run')]\n",
    "    for i in range(len(dfs)):\n",
    "        dfs[i] = dfs[i].groupby(['ID'], as_index=False).first()\n",
    "    df = pd.concat(dfs)\n",
    "    df = df.dropna(subset=['exit'])\n",
    "\n",
    "    # Remove first 20 cells due to uninhibited movement\n",
    "    for run in df['Run'].unique():\n",
    "        ids_to_remove = df[df['Run'] == run]['ID'].unique()[:20]\n",
    "        df = df[~((df['Run'] == run) & (df['ID'].isin(ids_to_remove)))]\n",
    "\n",
    "    # Casting dtypes\n",
    "    df['Frames'] = df['exit'].astype(float) - df['entry'].astype(float)\n",
    "    df['Run'] = df['Run'].astype(int)\n",
    "    runs = df['Run'].unique()\n",
    "\n",
    "    # Creating final dataframe\n",
    "    summary_df = pd.DataFrame(columns=['Run', 'Mean Frames', 'Std Frames', 'Min Frames', 'Max Frames',\n",
    "                                       'Median Frames', 'Q1 Frames', 'Q3 Frames'])\n",
    "\n",
    "    for run in df['Run'].unique():\n",
    "        df_run = df[df['Run'] == run]\n",
    "        mean_frames = df_run['Frames'].mean()\n",
    "        std_frames = df_run['Frames'].std()\n",
    "        min_frames = df_run['Frames'].min()\n",
    "        max_frames = df_run['Frames'].max()\n",
    "        median_frames = df_run['Frames'].median()\n",
    "        q1_frames = df_run['Frames'].quantile(0.25)\n",
    "        q3_frames = df_run['Frames'].quantile(0.75)\n",
    "\n",
    "        row = pd.DataFrame({'Run': [run], 'Mean Frames': [mean_frames], 'Std Frames': [std_frames],\n",
    "                            'Min Frames': [min_frames], 'Max Frames': [max_frames],\n",
    "                            'Median Frames': [median_frames], 'Q1 Frames': [q1_frames], 'Q3 Frames': [q3_frames]})\n",
    "\n",
    "        summary_df = pd.concat([summary_df, row], ignore_index=True)\n",
    "\n",
    "    # Creating final averaging row\n",
    "    average_all_runs = summary_df.mean().to_frame().T\n",
    "    average_all_runs['Run'] = 'Average'\n",
    "    summary_df = pd.concat([summary_df, average_all_runs], ignore_index=True)\n",
    "\n",
    "    return summary_df, df\n"
   ]
  },
  {
   "cell_type": "code",
   "execution_count": 2,
   "id": "53398391",
   "metadata": {
    "scrolled": false
   },
   "outputs": [
    {
     "name": "stderr",
     "output_type": "stream",
     "text": [
      "C:\\Users\\jfava\\AppData\\Local\\Temp\\ipykernel_10392\\571102001.py:11: ParserWarning: Length of header or names does not match length of data. This leads to a loss of data with index_col=False.\n",
      "  df = pd.read_csv(file, index_col=False)\n",
      "C:\\Users\\jfava\\AppData\\Local\\Temp\\ipykernel_10392\\571102001.py:11: ParserWarning: Length of header or names does not match length of data. This leads to a loss of data with index_col=False.\n",
      "  df = pd.read_csv(file, index_col=False)\n",
      "C:\\Users\\jfava\\AppData\\Local\\Temp\\ipykernel_10392\\571102001.py:11: ParserWarning: Length of header or names does not match length of data. This leads to a loss of data with index_col=False.\n",
      "  df = pd.read_csv(file, index_col=False)\n",
      "C:\\Users\\jfava\\AppData\\Local\\Temp\\ipykernel_10392\\571102001.py:11: ParserWarning: Length of header or names does not match length of data. This leads to a loss of data with index_col=False.\n",
      "  df = pd.read_csv(file, index_col=False)\n",
      "C:\\Users\\jfava\\AppData\\Local\\Temp\\ipykernel_10392\\571102001.py:11: ParserWarning: Length of header or names does not match length of data. This leads to a loss of data with index_col=False.\n",
      "  df = pd.read_csv(file, index_col=False)\n",
      "C:\\Users\\jfava\\AppData\\Local\\Temp\\ipykernel_10392\\571102001.py:11: ParserWarning: Length of header or names does not match length of data. This leads to a loss of data with index_col=False.\n",
      "  df = pd.read_csv(file, index_col=False)\n",
      "C:\\Users\\jfava\\AppData\\Local\\Temp\\ipykernel_10392\\571102001.py:11: ParserWarning: Length of header or names does not match length of data. This leads to a loss of data with index_col=False.\n",
      "  df = pd.read_csv(file, index_col=False)\n",
      "C:\\Users\\jfava\\AppData\\Local\\Temp\\ipykernel_10392\\571102001.py:11: ParserWarning: Length of header or names does not match length of data. This leads to a loss of data with index_col=False.\n",
      "  df = pd.read_csv(file, index_col=False)\n"
     ]
    }
   ],
   "source": [
    "filenames = ['lambda_act_100_setting_1.csv',\n",
    "            'lambda_act_100_setting_2.csv',\n",
    "            'lambda_act_100_setting_3.csv',\n",
    "            'lambda_act_100_setting_4.csv',\n",
    "            'lambda_act_200_setting_1.csv',\n",
    "            'lambda_act_200_setting_2.csv',\n",
    "            'lambda_act_200_setting_3.csv',\n",
    "            'lambda_act_200_setting_4.csv',\n",
    "            'lambda_act_300_setting_1.csv',\n",
    "            'lambda_act_300_setting_2.csv',\n",
    "            'lambda_act_300_setting_3.csv',\n",
    "            'lambda_act_300_setting_4.csv']\n",
    "\n",
    "all_data = {}\n",
    "for file in filenames:\n",
    "    all_data[file] = readfile(file)"
   ]
  },
  {
   "cell_type": "code",
   "execution_count": 3,
   "id": "1fd54f8b",
   "metadata": {
    "scrolled": true
   },
   "outputs": [
    {
     "ename": "NameError",
     "evalue": "name 'summary_df' is not defined",
     "output_type": "error",
     "traceback": [
      "\u001b[1;31m---------------------------------------------------------------------------\u001b[0m",
      "\u001b[1;31mNameError\u001b[0m                                 Traceback (most recent call last)",
      "\u001b[1;32m~\\AppData\\Local\\Temp\\ipykernel_10392\\825135660.py\u001b[0m in \u001b[0;36m<module>\u001b[1;34m\u001b[0m\n\u001b[0;32m      3\u001b[0m \u001b[1;31m# Maak een plot voor het gemiddeld aantal frames per run\u001b[0m\u001b[1;33m\u001b[0m\u001b[1;33m\u001b[0m\u001b[0m\n\u001b[0;32m      4\u001b[0m \u001b[0mplt\u001b[0m\u001b[1;33m.\u001b[0m\u001b[0mfigure\u001b[0m\u001b[1;33m(\u001b[0m\u001b[0mfigsize\u001b[0m\u001b[1;33m=\u001b[0m\u001b[1;33m(\u001b[0m\u001b[1;36m10\u001b[0m\u001b[1;33m,\u001b[0m\u001b[1;36m6\u001b[0m\u001b[1;33m)\u001b[0m\u001b[1;33m)\u001b[0m\u001b[1;33m\u001b[0m\u001b[1;33m\u001b[0m\u001b[0m\n\u001b[1;32m----> 5\u001b[1;33m \u001b[0mplt\u001b[0m\u001b[1;33m.\u001b[0m\u001b[0mplot\u001b[0m\u001b[1;33m(\u001b[0m\u001b[0msummary_df\u001b[0m\u001b[1;33m[\u001b[0m\u001b[1;34m'Run'\u001b[0m\u001b[1;33m]\u001b[0m\u001b[1;33m[\u001b[0m\u001b[1;33m:\u001b[0m\u001b[1;33m-\u001b[0m\u001b[1;36m1\u001b[0m\u001b[1;33m]\u001b[0m\u001b[1;33m,\u001b[0m \u001b[0msummary_df\u001b[0m\u001b[1;33m[\u001b[0m\u001b[1;34m'Mean Frames'\u001b[0m\u001b[1;33m]\u001b[0m\u001b[1;33m[\u001b[0m\u001b[1;33m:\u001b[0m\u001b[1;33m-\u001b[0m\u001b[1;36m1\u001b[0m\u001b[1;33m]\u001b[0m\u001b[1;33m)\u001b[0m  \u001b[1;31m# we sluiten het laatste gemiddelde uit\u001b[0m\u001b[1;33m\u001b[0m\u001b[1;33m\u001b[0m\u001b[0m\n\u001b[0m\u001b[0;32m      6\u001b[0m \u001b[0mplt\u001b[0m\u001b[1;33m.\u001b[0m\u001b[0mxlabel\u001b[0m\u001b[1;33m(\u001b[0m\u001b[1;34m'Run'\u001b[0m\u001b[1;33m)\u001b[0m\u001b[1;33m\u001b[0m\u001b[1;33m\u001b[0m\u001b[0m\n\u001b[0;32m      7\u001b[0m \u001b[0mplt\u001b[0m\u001b[1;33m.\u001b[0m\u001b[0mylabel\u001b[0m\u001b[1;33m(\u001b[0m\u001b[1;34m'Gemiddeld aantal Frames'\u001b[0m\u001b[1;33m)\u001b[0m\u001b[1;33m\u001b[0m\u001b[1;33m\u001b[0m\u001b[0m\n",
      "\u001b[1;31mNameError\u001b[0m: name 'summary_df' is not defined"
     ]
    },
    {
     "data": {
      "text/plain": [
       "<Figure size 1000x600 with 0 Axes>"
      ]
     },
     "metadata": {},
     "output_type": "display_data"
    }
   ],
   "source": [
    "import matplotlib.pyplot as plt\n",
    "\n",
    "# Maak een plot voor het gemiddeld aantal frames per run\n",
    "plt.figure(figsize=(10,6))\n",
    "plt.plot(summary_df['Run'][:-1], summary_df['Mean Frames'][:-1])  # we sluiten het laatste gemiddelde uit\n",
    "plt.xlabel('Run')\n",
    "plt.ylabel('Gemiddeld aantal Frames')\n",
    "plt.title('Gemiddeld aantal frames per run')\n",
    "plt.grid(True)\n",
    "plt.show()\n",
    "\n",
    "# Maak een histogram van de gemiddelde frames\n",
    "plt.figure(figsize=(10,6))\n",
    "plt.hist(full_df['Frames'], bins=20, edgecolor='black')\n",
    "plt.xlabel('Aantal Frames')\n",
    "plt.ylabel('Frequentie')\n",
    "plt.title('Histogram van het aantal Frames')\n",
    "plt.grid(True)\n",
    "plt.show()\n",
    "\n",
    "# Boxplot van Frames per Run\n",
    "full_df.boxplot(column='Frames', by='Run', figsize=(10,6))\n",
    "plt.title('Boxplot van Frames per Run')\n",
    "plt.suptitle('')  # Verwijder de automatische 'Boxplot grouped by Run' titel\n",
    "plt.show()\n",
    "\n",
    "# Scatterplot van 'exit' en 'entry'\n",
    "plt.figure(figsize=(10,6))\n",
    "plt.scatter(full_df['exit'], full_df['entry'])\n",
    "plt.xlabel('Exit Frame')\n",
    "plt.ylabel('Entry Frame')\n",
    "plt.title('Scatterplot van Exit vs Entry Frames')\n",
    "plt.grid(True)\n",
    "plt.show()\n"
   ]
  },
  {
   "cell_type": "code",
   "execution_count": 4,
   "id": "7e426d87",
   "metadata": {},
   "outputs": [
    {
     "data": {
      "text/plain": [
       "-0.2577266237933793"
      ]
     },
     "execution_count": 4,
     "metadata": {},
     "output_type": "execute_result"
    }
   ],
   "source": [
    "def z_test(run1, run2):\n",
    "    data1 = all_data[run1][0]\n",
    "    data2 = all_data[run2][0]\n",
    "    avg1 = data1.loc[100]['Mean Frames']\n",
    "    avg2 = data2.loc[100]['Mean Frames']\n",
    "    std1 = data1.loc[100]['Std Frames']\n",
    "    std2 = data2.loc[100]['Std Frames']\n",
    "    return (avg1 - avg2) / (math.sqrt(std1 ** 2 + std2 ** 2))\n",
    "\n",
    "keys = list(all_data.keys())\n",
    "z_test(keys[0], keys[1])"
   ]
  },
  {
   "cell_type": "markdown",
   "id": "df936da1",
   "metadata": {},
   "source": [
    "# $\\lambda$Act Analysis\n"
   ]
  },
  {
   "cell_type": "code",
   "execution_count": 98,
   "id": "a0bcb5d1",
   "metadata": {},
   "outputs": [
    {
     "name": "stdout",
     "output_type": "stream",
     "text": [
      "Name is lambda_act_100_setting_1.csv with mean frames of: 1569.9441982310937\n",
      "Name is lambda_act_100_setting_1.csv with stdev of: 199.73139183808425\n",
      "Name is lambda_act_100_setting_2.csv with mean frames of: 1635.4987571476431\n",
      "Name is lambda_act_100_setting_2.csv with stdev of: 157.4954952120743\n",
      "Name is lambda_act_100_setting_3.csv with mean frames of: 1635.2814830444026\n",
      "Name is lambda_act_100_setting_3.csv with stdev of: 146.55830756748105\n",
      "Name is lambda_act_100_setting_4.csv with mean frames of: 1583.9637180551167\n",
      "Name is lambda_act_100_setting_4.csv with stdev of: 185.74911828719877\n",
      "Name is lambda_act_200_setting_1.csv with mean frames of: 1241.0281967213114\n",
      "Name is lambda_act_200_setting_1.csv with stdev of: 173.37068741071016\n",
      "Name is lambda_act_200_setting_2.csv with mean frames of: 1278.223655737705\n",
      "Name is lambda_act_200_setting_2.csv with stdev of: 160.06436784313655\n",
      "Name is lambda_act_200_setting_3.csv with mean frames of: 1285.1547213114757\n",
      "Name is lambda_act_200_setting_3.csv with stdev of: 152.69628195586805\n",
      "Name is lambda_act_200_setting_4.csv with mean frames of: 1254.4688524590163\n",
      "Name is lambda_act_200_setting_4.csv with stdev of: 164.67942273323675\n",
      "Name is lambda_act_300_setting_1.csv with mean frames of: 1046.1611237440507\n",
      "Name is lambda_act_300_setting_1.csv with stdev of: 150.03157007360647\n",
      "Name is lambda_act_300_setting_2.csv with mean frames of: 1054.4572131147543\n",
      "Name is lambda_act_300_setting_2.csv with stdev of: 145.3396016902911\n",
      "Name is lambda_act_300_setting_3.csv with mean frames of: 1051.1996721311477\n",
      "Name is lambda_act_300_setting_3.csv with stdev of: 150.02998451511502\n",
      "Name is lambda_act_300_setting_4.csv with mean frames of: 1055.4608196721313\n",
      "Name is lambda_act_300_setting_4.csv with stdev of: 144.2392955599416\n"
     ]
    }
   ],
   "source": [
    "for x in keys:\n",
    "    print(f'Name is {x} with mean frames of: {all_data[x][0].loc[100][\"Mean Frames\"]}')\n",
    "    print(f'Name is {x} with stdev of: {all_data[x][0].loc[100][\"Std Frames\"]}')"
   ]
  },
  {
   "cell_type": "code",
   "execution_count": 6,
   "id": "b0df993c",
   "metadata": {},
   "outputs": [
    {
     "name": "stdout",
     "output_type": "stream",
     "text": [
      "ANOVA F-score between settings: \n",
      "f_score = 0.013592550779932601, p=0.9976515171042021\n"
     ]
    }
   ],
   "source": [
    "from scipy.stats import f_oneway\n",
    "averages = [all_data[x][0].loc[100]['Mean Frames'] for x in keys]\n",
    "setting_1 = [averages[x] for x in range(0, len(averages), 4)]\n",
    "setting_2 = [averages[x] for x in range(1, len(averages)+1, 4)]\n",
    "setting_3 = [averages[x] for x in range(2, len(averages)+2, 4)]\n",
    "setting_4 = [averages[x] for x in range(3, len(averages)+3, 4)]\n",
    "f_score, p = f_oneway(setting_1, setting_2, setting_3, setting_4)\n",
    "print(f\"ANOVA F-score between settings: \\nf_score = {f_score}, p={p}\")"
   ]
  },
  {
   "cell_type": "code",
   "execution_count": 7,
   "id": "6628de56",
   "metadata": {},
   "outputs": [
    {
     "name": "stdout",
     "output_type": "stream",
     "text": [
      "582.6425130305911 0.0000000003\n"
     ]
    }
   ],
   "source": [
    "value_1 = averages[0:4]\n",
    "value_2 = averages[4:8]\n",
    "value_3 = averages[8:12]\n",
    "anova_score, p = f_oneway(value_1, value_2, value_3)\n",
    "print(anova_score, '{0:.10f}'.format(p))"
   ]
  },
  {
   "cell_type": "markdown",
   "id": "59b3cbc2",
   "metadata": {},
   "source": [
    "# Cell_to_cell adhesion Analysis"
   ]
  },
  {
   "cell_type": "code",
   "execution_count": 8,
   "id": "a4900f1b",
   "metadata": {
    "scrolled": true
   },
   "outputs": [
    {
     "name": "stderr",
     "output_type": "stream",
     "text": [
      "C:\\Users\\jfava\\AppData\\Local\\Temp\\ipykernel_10392\\571102001.py:11: ParserWarning: Length of header or names does not match length of data. This leads to a loss of data with index_col=False.\n",
      "  df = pd.read_csv(file, index_col=False)\n",
      "C:\\Users\\jfava\\AppData\\Local\\Temp\\ipykernel_10392\\571102001.py:11: ParserWarning: Length of header or names does not match length of data. This leads to a loss of data with index_col=False.\n",
      "  df = pd.read_csv(file, index_col=False)\n",
      "C:\\Users\\jfava\\AppData\\Local\\Temp\\ipykernel_10392\\571102001.py:11: ParserWarning: Length of header or names does not match length of data. This leads to a loss of data with index_col=False.\n",
      "  df = pd.read_csv(file, index_col=False)\n",
      "C:\\Users\\jfava\\AppData\\Local\\Temp\\ipykernel_10392\\571102001.py:11: ParserWarning: Length of header or names does not match length of data. This leads to a loss of data with index_col=False.\n",
      "  df = pd.read_csv(file, index_col=False)\n",
      "C:\\Users\\jfava\\AppData\\Local\\Temp\\ipykernel_10392\\571102001.py:11: ParserWarning: Length of header or names does not match length of data. This leads to a loss of data with index_col=False.\n",
      "  df = pd.read_csv(file, index_col=False)\n",
      "C:\\Users\\jfava\\AppData\\Local\\Temp\\ipykernel_10392\\571102001.py:11: ParserWarning: Length of header or names does not match length of data. This leads to a loss of data with index_col=False.\n",
      "  df = pd.read_csv(file, index_col=False)\n",
      "C:\\Users\\jfava\\AppData\\Local\\Temp\\ipykernel_10392\\571102001.py:11: ParserWarning: Length of header or names does not match length of data. This leads to a loss of data with index_col=False.\n",
      "  df = pd.read_csv(file, index_col=False)\n",
      "C:\\Users\\jfava\\AppData\\Local\\Temp\\ipykernel_10392\\571102001.py:11: ParserWarning: Length of header or names does not match length of data. This leads to a loss of data with index_col=False.\n",
      "  df = pd.read_csv(file, index_col=False)\n",
      "C:\\Users\\jfava\\AppData\\Local\\Temp\\ipykernel_10392\\571102001.py:11: ParserWarning: Length of header or names does not match length of data. This leads to a loss of data with index_col=False.\n",
      "  df = pd.read_csv(file, index_col=False)\n",
      "C:\\Users\\jfava\\AppData\\Local\\Temp\\ipykernel_10392\\571102001.py:11: ParserWarning: Length of header or names does not match length of data. This leads to a loss of data with index_col=False.\n",
      "  df = pd.read_csv(file, index_col=False)\n",
      "C:\\Users\\jfava\\AppData\\Local\\Temp\\ipykernel_10392\\571102001.py:11: ParserWarning: Length of header or names does not match length of data. This leads to a loss of data with index_col=False.\n",
      "  df = pd.read_csv(file, index_col=False)\n",
      "C:\\Users\\jfava\\AppData\\Local\\Temp\\ipykernel_10392\\571102001.py:11: ParserWarning: Length of header or names does not match length of data. This leads to a loss of data with index_col=False.\n",
      "  df = pd.read_csv(file, index_col=False)\n"
     ]
    }
   ],
   "source": [
    "c2c_names = ['c2c_adh_0_setting_1.csv',\n",
    "            'c2c_adh_0_setting_2.csv',\n",
    "            'c2c_adh_0_setting_3.csv',\n",
    "            'c2c_adh_0_setting_4.csv',\n",
    "            'c2c_adh_5_setting_1.csv',\n",
    "            'c2c_adh_5_setting_2.csv',\n",
    "            'c2c_adh_5_setting_3.csv',\n",
    "            'c2c_adh_5_setting_4.csv',\n",
    "            'c2c_adh_10_setting_1.csv',\n",
    "            'c2c_adh_10_setting_2.csv',\n",
    "            'c2c_adh_10_setting_3.csv',\n",
    "            'c2c_adh_10_setting_4.csv',]\n",
    "\n",
    "c2c_data = {}\n",
    "for filename in c2c_names:\n",
    "    c2c_data[filename] = readfile(filename)"
   ]
  },
  {
   "cell_type": "code",
   "execution_count": 95,
   "id": "35ffb787",
   "metadata": {},
   "outputs": [
    {
     "name": "stdout",
     "output_type": "stream",
     "text": [
      "Name is c2c_adh_0_setting_1.csv with mean frames of: 170.1285725865486\n",
      "Name is c2c_adh_0_setting_2.csv with mean frames of: 160.20317569135614\n",
      "Name is c2c_adh_0_setting_3.csv with mean frames of: 149.7375002859277\n",
      "Name is c2c_adh_0_setting_4.csv with mean frames of: 162.95612044933716\n",
      "Name is c2c_adh_5_setting_1.csv with mean frames of: 174.96154715239308\n",
      "Name is c2c_adh_5_setting_2.csv with mean frames of: 157.1272032980543\n",
      "Name is c2c_adh_5_setting_3.csv with mean frames of: 154.82641245128613\n",
      "Name is c2c_adh_5_setting_4.csv with mean frames of: 168.12263560413155\n",
      "Name is c2c_adh_10_setting_1.csv with mean frames of: 179.93131746002373\n",
      "Name is c2c_adh_10_setting_2.csv with mean frames of: 163.1496863566004\n",
      "Name is c2c_adh_10_setting_3.csv with mean frames of: 148.5871427841408\n",
      "Name is c2c_adh_10_setting_4.csv with mean frames of: 168.73322780772082\n"
     ]
    }
   ],
   "source": [
    "c2c_keys = list(c2c_data.keys())\n",
    "for x in c2c_keys:\n",
    "    print(f'Name is {x} with mean frames of: {c2c_data[x][0].loc[100][\"Mean Frames\"]}')\n",
    "    print(f'Name is {x} with stdev of: {c2c_data[x][0].loc[100][\"Std Frames\"]}')"
   ]
  },
  {
   "cell_type": "code",
   "execution_count": 83,
   "id": "327f7631",
   "metadata": {},
   "outputs": [
    {
     "name": "stdout",
     "output_type": "stream",
     "text": [
      "ANOVA F-score between settings: \n",
      "f_score = 4.87277861170081, p=0.03258749265358982\n"
     ]
    }
   ],
   "source": [
    "c2c_avgs = [c2c_data[x][0].loc[100]['Mean Frames'] for x in c2c_keys]\n",
    "setting_1 = [c2c_avgs[x] for x in range(0, len(c2c_avgs), 4)]\n",
    "setting_2 = [c2c_avgs[x] for x in range(1, len(c2c_avgs)+1, 4)]\n",
    "setting_3 = [c2c_avgs[x] for x in range(2, len(c2c_avgs)+2, 4)]\n",
    "setting_4 = [c2c_avgs[x] for x in range(3, len(c2c_avgs)+3, 4)]\n",
    "f_score, p = f_oneway(setting_1, setting_2, setting_3, setting_4)\n",
    "print(f\"ANOVA F-score between settings: \\nf_score = {f_score}, p={p}\")"
   ]
  },
  {
   "cell_type": "code",
   "execution_count": 11,
   "id": "398f09f3",
   "metadata": {},
   "outputs": [
    {
     "name": "stdout",
     "output_type": "stream",
     "text": [
      "ANOVA F-score between act-values: \n",
      "f_score = 2.432386945816856, p=0.14304863926137187\n"
     ]
    }
   ],
   "source": [
    "value_1 = c2c_avgs[0:4]\n",
    "value_2 = c2c_avgs[4:8]\n",
    "value_3 = c2c_avgs[8:12]\n",
    "f_score, p = f_oneway(value_1, value_2, value_3)\n",
    "print(f\"ANOVA F-score between act-values: \\nf_score = {f_score}, p={p}\")"
   ]
  },
  {
   "cell_type": "markdown",
   "id": "7f8c76ca",
   "metadata": {},
   "source": [
    "# Pushing Power analysis"
   ]
  },
  {
   "cell_type": "code",
   "execution_count": 12,
   "id": "c532d17b",
   "metadata": {},
   "outputs": [
    {
     "name": "stderr",
     "output_type": "stream",
     "text": [
      "C:\\Users\\jfava\\AppData\\Local\\Temp\\ipykernel_10392\\571102001.py:11: ParserWarning: Length of header or names does not match length of data. This leads to a loss of data with index_col=False.\n",
      "  df = pd.read_csv(file, index_col=False)\n",
      "C:\\Users\\jfava\\AppData\\Local\\Temp\\ipykernel_10392\\571102001.py:11: ParserWarning: Length of header or names does not match length of data. This leads to a loss of data with index_col=False.\n",
      "  df = pd.read_csv(file, index_col=False)\n",
      "C:\\Users\\jfava\\AppData\\Local\\Temp\\ipykernel_10392\\571102001.py:11: ParserWarning: Length of header or names does not match length of data. This leads to a loss of data with index_col=False.\n",
      "  df = pd.read_csv(file, index_col=False)\n",
      "C:\\Users\\jfava\\AppData\\Local\\Temp\\ipykernel_10392\\571102001.py:11: ParserWarning: Length of header or names does not match length of data. This leads to a loss of data with index_col=False.\n",
      "  df = pd.read_csv(file, index_col=False)\n",
      "C:\\Users\\jfava\\AppData\\Local\\Temp\\ipykernel_10392\\571102001.py:11: ParserWarning: Length of header or names does not match length of data. This leads to a loss of data with index_col=False.\n",
      "  df = pd.read_csv(file, index_col=False)\n",
      "C:\\Users\\jfava\\AppData\\Local\\Temp\\ipykernel_10392\\571102001.py:11: ParserWarning: Length of header or names does not match length of data. This leads to a loss of data with index_col=False.\n",
      "  df = pd.read_csv(file, index_col=False)\n",
      "C:\\Users\\jfava\\AppData\\Local\\Temp\\ipykernel_10392\\571102001.py:11: ParserWarning: Length of header or names does not match length of data. This leads to a loss of data with index_col=False.\n",
      "  df = pd.read_csv(file, index_col=False)\n",
      "C:\\Users\\jfava\\AppData\\Local\\Temp\\ipykernel_10392\\571102001.py:11: ParserWarning: Length of header or names does not match length of data. This leads to a loss of data with index_col=False.\n",
      "  df = pd.read_csv(file, index_col=False)\n",
      "C:\\Users\\jfava\\AppData\\Local\\Temp\\ipykernel_10392\\571102001.py:11: ParserWarning: Length of header or names does not match length of data. This leads to a loss of data with index_col=False.\n",
      "  df = pd.read_csv(file, index_col=False)\n",
      "C:\\Users\\jfava\\AppData\\Local\\Temp\\ipykernel_10392\\571102001.py:11: ParserWarning: Length of header or names does not match length of data. This leads to a loss of data with index_col=False.\n",
      "  df = pd.read_csv(file, index_col=False)\n",
      "C:\\Users\\jfava\\AppData\\Local\\Temp\\ipykernel_10392\\571102001.py:11: ParserWarning: Length of header or names does not match length of data. This leads to a loss of data with index_col=False.\n",
      "  df = pd.read_csv(file, index_col=False)\n",
      "C:\\Users\\jfava\\AppData\\Local\\Temp\\ipykernel_10392\\571102001.py:11: ParserWarning: Length of header or names does not match length of data. This leads to a loss of data with index_col=False.\n",
      "  df = pd.read_csv(file, index_col=False)\n"
     ]
    }
   ],
   "source": [
    "power_files = [\n",
    "    'scenario_1-dir_50.csv',\n",
    "    'scenario_2-dir_50.csv',\n",
    "    'scenario_3-dir_50.csv',\n",
    "    'scenario_4-dir_50.csv',\n",
    "    'scenario_1-dir_100.csv',\n",
    "    'scenario_2-dir_100.csv',\n",
    "    'scenario_3-dir_100.csv',\n",
    "    'scenario_4-dir_100.csv',\n",
    "    'scenario_1-dir_200.csv',\n",
    "    'scenario_2-dir_200.csv',\n",
    "    'scenario_3-dir_200.csv',\n",
    "    'scenario_4-dir_200.csv'\n",
    "]\n",
    "power_data = {}\n",
    "for x in power_files:\n",
    "    power_data[x] = readfile(x)"
   ]
  },
  {
   "cell_type": "code",
   "execution_count": 97,
   "id": "0e6a134e",
   "metadata": {},
   "outputs": [
    {
     "name": "stdout",
     "output_type": "stream",
     "text": [
      "Name is scenario_1-dir_50.csv with mean frames of: 2323.5615835880335\n",
      "Name is scenario_1-dir_50.csv with stdev of: 456.13762603722853\n",
      "Name is scenario_2-dir_50.csv with mean frames of: 2415.328790644272\n",
      "Name is scenario_2-dir_50.csv with stdev of: 404.3894344110182\n",
      "Name is scenario_3-dir_50.csv with mean frames of: 2403.292940566101\n",
      "Name is scenario_3-dir_50.csv with stdev of: 399.31592323303926\n",
      "Name is scenario_4-dir_50.csv with mean frames of: 2345.999984393813\n",
      "Name is scenario_4-dir_50.csv with stdev of: 422.2251226161578\n",
      "Name is scenario_1-dir_100.csv with mean frames of: 1239.5965573770493\n",
      "Name is scenario_1-dir_100.csv with stdev of: 170.1285725865486\n",
      "Name is scenario_2-dir_100.csv with mean frames of: 1278.223655737705\n",
      "Name is scenario_2-dir_100.csv with stdev of: 160.06436784313655\n",
      "Name is scenario_3-dir_100.csv with mean frames of: 1286.92\n",
      "Name is scenario_3-dir_100.csv with stdev of: 150.07670138474796\n",
      "Name is scenario_4-dir_100.csv with mean frames of: 1255.424426229508\n",
      "Name is scenario_4-dir_100.csv with stdev of: 165.74297043578318\n",
      "Name is scenario_1-dir_200.csv with mean frames of: 975.7345901639343\n",
      "Name is scenario_1-dir_200.csv with stdev of: 120.10600320138794\n",
      "Name is scenario_2-dir_200.csv with mean frames of: 1006.697704918033\n",
      "Name is scenario_2-dir_200.csv with stdev of: 117.42252461562883\n",
      "Name is scenario_3-dir_200.csv with mean frames of: 1002.7018032786887\n",
      "Name is scenario_3-dir_200.csv with stdev of: 107.59419995251871\n",
      "Name is scenario_4-dir_200.csv with mean frames of: 978.0706557377048\n",
      "Name is scenario_4-dir_200.csv with stdev of: 115.05865720403536\n"
     ]
    }
   ],
   "source": [
    "power_keys = list(power_data.keys())\n",
    "for x in power_keys:\n",
    "    print(f'Name is {x} with mean frames of: {power_data[x][0].loc[100][\"Mean Frames\"]}')\n",
    "    print(f'Name is {x} with stdev of: {power_data[x][0].loc[100][\"Std Frames\"]}')"
   ]
  },
  {
   "cell_type": "code",
   "execution_count": 91,
   "id": "3191704e",
   "metadata": {},
   "outputs": [
    {
     "name": "stdout",
     "output_type": "stream",
     "text": [
      "12\n",
      "[958.327868852459, 977.8196721311475, 952.0983606557377, 953.7868852459017, 976.9344262295082, 967.4590163934427, 963.7540983606557, 977.1147540983607, 985.9180327868852, 996.1967213114754, 974.8360655737705, 967.8852459016393, 979.1475409836065, 985.5409836065573, 994.016393442623, 968.672131147541, 981.5409836065573, 963.8524590163935, 976.360655737705, 978.4918032786885, 988.8360655737705, 965.1147540983607, 982.360655737705, 997.0327868852459, 963.8524590163935, 978.311475409836, 947.9016393442623, 999.2295081967213, 982.3770491803278, 979.6229508196722, 992.655737704918, 975.1803278688525, 981.4098360655738, 962.6065573770492, 980.5081967213115, 989.7704918032787, 970.2622950819672, 951.655737704918, 980.8852459016393, 980.4262295081967, 964.4426229508197, 980.327868852459, 977.0327868852459, 987.0491803278688, 959.7704918032787, 968.6065573770492, 971.4754098360655, 988.0983606557377, 988.8524590163935, 969.6065573770492, 955.5901639344262, 978.2622950819672, 980.0491803278688, 988.2295081967213, 973.5573770491803, 965.0, 975.7213114754098, 980.8524590163935, 994.7540983606557, 987.4426229508197, 974.9180327868852, 1001.9508196721312, 963.672131147541, 980.6065573770492, 977.2786885245902, 969.672131147541, 973.5245901639345, 1002.1147540983607, 976.8032786885246, 969.9672131147541, 996.0655737704918, 967.688524590164, 953.983606557377, 989.016393442623, 977.1147540983607, 965.8032786885246, 976.0655737704918, 960.9672131147541, 978.0327868852459, 946.7540983606557, 949.1803278688525, 967.8196721311475, 989.7868852459017, 979.2459016393443, 981.655737704918, 974.0327868852459, 976.4098360655738, 955.8524590163935, 953.4262295081967, 982.311475409836, 964.1803278688525, 1015.4918032786885, 983.0983606557377, 987.6229508196722, 973.2295081967213, 974.360655737705, 987.7868852459017, 975.2622950819672, 966.327868852459, 969.9016393442623, 975.7345901639343]\n",
      "ANOVA F-score between settings: \n",
      "f_score = [0.00764401 0.0006926  0.00818044 0.01141109 0.00228891 0.0026369\n",
      " 0.00841756 0.00629507 0.00360908 0.01158226 0.00432641 0.00735814\n",
      " 0.00962649 0.00135733 0.00241678 0.00433364 0.00034425 0.00446638\n",
      " 0.00507526 0.00468749 0.00033245 0.00375265 0.00736594 0.0045757\n",
      " 0.00687838 0.00459163 0.00146302 0.00055787 0.00069262 0.00690677\n",
      " 0.00810685 0.00757466 0.01034489 0.0024014  0.00442739 0.00782798\n",
      " 0.0045532  0.00422767 0.00424535 0.00551815 0.00521974 0.01647674\n",
      " 0.00261761 0.00117587 0.01091699 0.01108621 0.0082623  0.01622119\n",
      " 0.01033077 0.01480182 0.01368529 0.00581823 0.00408436 0.00340938\n",
      " 0.01404393 0.00971077 0.00861548 0.01161305 0.01143631 0.01704591\n",
      " 0.00704421 0.00612947 0.00373729 0.0126495  0.00137811 0.00989804\n",
      " 0.00319568 0.00436138 0.01542651 0.00174885 0.00169689 0.00617731\n",
      " 0.01257109 0.00678774 0.00801415 0.01267939 0.01401006 0.0062665\n",
      " 0.00490139 0.00223469 0.00038372 0.00928795 0.00427244 0.00496927\n",
      " 0.0060751  0.01813269 0.01305603 0.00881269 0.00205554 0.00212597\n",
      " 0.00666234 0.01149734 0.00331672 0.00174691 0.00043059 0.01444367\n",
      " 0.00414435 0.00784663 0.00456122 0.00559747 0.00409744], p=[0.99900231 0.99997255 0.99889619 0.99818869 0.99983544 0.99979661\n",
      " 0.99884819 0.99925314 0.99967471 0.99814818 0.99957343 0.99905741\n",
      " 0.99859344 0.99992477 0.99982148 0.99957237 0.99999038 0.99955265\n",
      " 0.99945852 0.99951915 0.99999087 0.99965517 0.99905592 0.99953618\n",
      " 0.99914758 0.99953377 0.99991582 0.99998016 0.99997255 0.99914232\n",
      " 0.99891095 0.99901577 0.99843448 0.99982318 0.99955847 0.99896631\n",
      " 0.99953959 0.9995879  0.99958533 0.99938646 0.99943534 0.99687677\n",
      " 0.99979883 0.99993932 0.99830403 0.9982648  0.99887969 0.99694819\n",
      " 0.99843765 0.99733521 0.99762771 0.99933598 0.99960861 0.99970126\n",
      " 0.99753494 0.99857508 0.99880762 0.99814086 0.99818274 0.99671584\n",
      " 0.99911675 0.99928227 0.99965728 0.99788919 0.99992303 0.998534\n",
      " 0.99972883 0.99956827 0.99716692 0.99989002 0.99989488 0.99927389\n",
      " 0.99790858 0.99916428 0.99892946 0.99788178 0.99754375 0.99925819\n",
      " 0.999486   0.99984124 0.99998868 0.99866643 0.99958136 0.99947533\n",
      " 0.99929175 0.99640161 0.99778773 0.99876675 0.99985991 0.99985266\n",
      " 0.9991872  0.99816831 0.99971332 0.9998902  0.99998654 0.99743021\n",
      " 0.99959999 0.99896263 0.99953838 0.99937324 0.99960674]\n"
     ]
    }
   ],
   "source": [
    "power_avgs = [list(power_data[x][0].loc[0:100]['Mean Frames']) for x in power_keys]\n",
    "print(len(power_avgs))\n",
    "setting_1 = [power_avgs[x] for x in range(0, len(power_avgs), 4)]\n",
    "print(setting_1[2])\n",
    "setting_2 = [power_avgs[x] for x in range(1, len(power_avgs)+1, 4)]\n",
    "setting_3 = [power_avgs[x] for x in range(2, len(power_avgs)+2, 4)]\n",
    "setting_4 = [power_avgs[x] for x in range(3, len(power_avgs)+3, 4)]\n",
    "f_score, p = f_oneway(setting_1, setting_2, setting_3, setting_4)\n",
    "print(f\"ANOVA F-score between settings: \\nf_score = {f_score}, p={p}\")"
   ]
  },
  {
   "cell_type": "code",
   "execution_count": 15,
   "id": "de411070",
   "metadata": {},
   "outputs": [
    {
     "name": "stdout",
     "output_type": "stream",
     "text": [
      "ANOVA F-score between act-values: \n",
      "f_score = 2390.0451304826074, p=5.406954212489819e-13\n"
     ]
    }
   ],
   "source": [
    "value_1 = power_avgs[0:4]\n",
    "value_2 = power_avgs[4:8]\n",
    "value_3 = power_avgs[8:12]\n",
    "f_score, p = f_oneway(value_1, value_2, value_3)\n",
    "print(f\"ANOVA F-score between act-values: \\nf_score = {f_score}, p={p}\")"
   ]
  },
  {
   "cell_type": "markdown",
   "id": "c7e31f5c",
   "metadata": {},
   "source": [
    "# Obstacle size Analysis"
   ]
  },
  {
   "cell_type": "code",
   "execution_count": 43,
   "id": "7436ce55",
   "metadata": {},
   "outputs": [
    {
     "name": "stderr",
     "output_type": "stream",
     "text": [
      "C:\\Users\\jfava\\AppData\\Local\\Temp\\ipykernel_10392\\571102001.py:11: ParserWarning: Length of header or names does not match length of data. This leads to a loss of data with index_col=False.\n",
      "  df = pd.read_csv(file, index_col=False)\n",
      "C:\\Users\\jfava\\AppData\\Local\\Temp\\ipykernel_10392\\571102001.py:11: ParserWarning: Length of header or names does not match length of data. This leads to a loss of data with index_col=False.\n",
      "  df = pd.read_csv(file, index_col=False)\n",
      "C:\\Users\\jfava\\AppData\\Local\\Temp\\ipykernel_10392\\571102001.py:11: ParserWarning: Length of header or names does not match length of data. This leads to a loss of data with index_col=False.\n",
      "  df = pd.read_csv(file, index_col=False)\n",
      "C:\\Users\\jfava\\AppData\\Local\\Temp\\ipykernel_10392\\571102001.py:11: ParserWarning: Length of header or names does not match length of data. This leads to a loss of data with index_col=False.\n",
      "  df = pd.read_csv(file, index_col=False)\n",
      "C:\\Users\\jfava\\AppData\\Local\\Temp\\ipykernel_10392\\571102001.py:11: ParserWarning: Length of header or names does not match length of data. This leads to a loss of data with index_col=False.\n",
      "  df = pd.read_csv(file, index_col=False)\n",
      "C:\\Users\\jfava\\AppData\\Local\\Temp\\ipykernel_10392\\571102001.py:11: ParserWarning: Length of header or names does not match length of data. This leads to a loss of data with index_col=False.\n",
      "  df = pd.read_csv(file, index_col=False)\n",
      "C:\\Users\\jfava\\AppData\\Local\\Temp\\ipykernel_10392\\571102001.py:11: ParserWarning: Length of header or names does not match length of data. This leads to a loss of data with index_col=False.\n",
      "  df = pd.read_csv(file, index_col=False)\n",
      "C:\\Users\\jfava\\AppData\\Local\\Temp\\ipykernel_10392\\571102001.py:11: ParserWarning: Length of header or names does not match length of data. This leads to a loss of data with index_col=False.\n",
      "  df = pd.read_csv(file, index_col=False)\n",
      "C:\\Users\\jfava\\AppData\\Local\\Temp\\ipykernel_10392\\571102001.py:11: ParserWarning: Length of header or names does not match length of data. This leads to a loss of data with index_col=False.\n",
      "  df = pd.read_csv(file, index_col=False)\n",
      "C:\\Users\\jfava\\AppData\\Local\\Temp\\ipykernel_10392\\571102001.py:11: ParserWarning: Length of header or names does not match length of data. This leads to a loss of data with index_col=False.\n",
      "  df = pd.read_csv(file, index_col=False)\n"
     ]
    }
   ],
   "source": [
    "names = [\n",
    "    'base_1-obst_60.csv',\n",
    "    'base_1-obst_55.csv',\n",
    "    'base_1-obst_50.csv',\n",
    "    'base_1-obst_45.csv',\n",
    "    'base_1-obst_40.csv',\n",
    "    'base_1-obst_35.csv',\n",
    "    'base_1-obst_30.csv',\n",
    "    'base_1-obst_25.csv',\n",
    "    'base_1-obst_20.csv',\n",
    "    'base_1-obst_0.csv',\n",
    "]\n",
    "\n",
    "standard_data = {}\n",
    "\n",
    "for x in names:\n",
    "    standard_data[x] = readfile(x)"
   ]
  },
  {
   "cell_type": "code",
   "execution_count": 44,
   "id": "38c2d09e",
   "metadata": {},
   "outputs": [
    {
     "name": "stdout",
     "output_type": "stream",
     "text": [
      "Name is base_1-obst_60.csv with mean frames of: 926.9412427287149\n",
      "Name is base_1-obst_60.csv with std frames of: 91.22239994362423\n",
      "Name is base_1-obst_60.csv with min frames of: 748.69\n",
      "Name is base_1-obst_60.csv with Q1 frames of: 868.1825\n",
      "Name is base_1-obst_60.csv with median frames of: 926.81\n",
      "Name is base_1-obst_60.csv with Q2 frames of: 982.7\n",
      "Name is base_1-obst_60.csv with max frames of: 1162.04\n",
      "Name is base_1-obst_55.csv with mean frames of: 924.4044473823371\n",
      "Name is base_1-obst_55.csv with std frames of: 101.94056458818002\n",
      "Name is base_1-obst_55.csv with min frames of: 736.21\n",
      "Name is base_1-obst_55.csv with Q1 frames of: 859.1925\n",
      "Name is base_1-obst_55.csv with median frames of: 921.065\n",
      "Name is base_1-obst_55.csv with Q2 frames of: 986.46\n",
      "Name is base_1-obst_55.csv with max frames of: 1213.05\n",
      "Name is base_1-obst_50.csv with mean frames of: 916.1214754098353\n",
      "Name is base_1-obst_50.csv with std frames of: 104.47734100192098\n",
      "Name is base_1-obst_50.csv with min frames of: 726.88\n",
      "Name is base_1-obst_50.csv with Q1 frames of: 847.38\n",
      "Name is base_1-obst_50.csv with median frames of: 913.42\n",
      "Name is base_1-obst_50.csv with Q2 frames of: 979.82\n",
      "Name is base_1-obst_50.csv with max frames of: 1215.0\n",
      "Name is base_1-obst_45.csv with mean frames of: 907.6704918032781\n",
      "Name is base_1-obst_45.csv with std frames of: 97.57895307069727\n",
      "Name is base_1-obst_45.csv with min frames of: 723.08\n",
      "Name is base_1-obst_45.csv with Q1 frames of: 844.38\n",
      "Name is base_1-obst_45.csv with median frames of: 908.09\n",
      "Name is base_1-obst_45.csv with Q2 frames of: 969.93\n",
      "Name is base_1-obst_45.csv with max frames of: 1166.51\n",
      "Name is base_1-obst_40.csv with mean frames of: 899.8966657852989\n",
      "Name is base_1-obst_40.csv with std frames of: 96.4452076347211\n",
      "Name is base_1-obst_40.csv with min frames of: 717.18\n",
      "Name is base_1-obst_40.csv with Q1 frames of: 835.33\n",
      "Name is base_1-obst_40.csv with median frames of: 902.88\n",
      "Name is base_1-obst_40.csv with Q2 frames of: 963.18\n",
      "Name is base_1-obst_40.csv with max frames of: 1134.33\n",
      "Name is base_1-obst_35.csv with mean frames of: 899.6028873611848\n",
      "Name is base_1-obst_35.csv with std frames of: 97.2975747935971\n",
      "Name is base_1-obst_35.csv with min frames of: 709.72\n",
      "Name is base_1-obst_35.csv with Q1 frames of: 836.03\n",
      "Name is base_1-obst_35.csv with median frames of: 903.005\n",
      "Name is base_1-obst_35.csv with Q2 frames of: 963.8125\n",
      "Name is base_1-obst_35.csv with max frames of: 1125.16\n",
      "Name is base_1-obst_30.csv with mean frames of: 894.4544658910627\n",
      "Name is base_1-obst_30.csv with std frames of: 97.61019137379806\n",
      "Name is base_1-obst_30.csv with min frames of: 704.67\n",
      "Name is base_1-obst_30.csv with Q1 frames of: 831.1775\n",
      "Name is base_1-obst_30.csv with median frames of: 896.515\n",
      "Name is base_1-obst_30.csv with Q2 frames of: 956.82\n",
      "Name is base_1-obst_30.csv with max frames of: 1138.77\n",
      "Name is base_1-obst_25.csv with mean frames of: 890.6402009518769\n",
      "Name is base_1-obst_25.csv with std frames of: 99.2494587066034\n",
      "Name is base_1-obst_25.csv with min frames of: 696.51\n",
      "Name is base_1-obst_25.csv with Q1 frames of: 825.3775\n",
      "Name is base_1-obst_25.csv with median frames of: 892.57\n",
      "Name is base_1-obst_25.csv with Q2 frames of: 956.31\n",
      "Name is base_1-obst_25.csv with max frames of: 1123.88\n",
      "Name is base_1-obst_20.csv with mean frames of: 887.7655023796931\n",
      "Name is base_1-obst_20.csv with std frames of: 100.42754158575885\n",
      "Name is base_1-obst_20.csv with min frames of: 693.54\n",
      "Name is base_1-obst_20.csv with Q1 frames of: 821.71\n",
      "Name is base_1-obst_20.csv with median frames of: 890.18\n",
      "Name is base_1-obst_20.csv with Q2 frames of: 953.4425\n",
      "Name is base_1-obst_20.csv with max frames of: 1138.76\n",
      "Name is base_1-obst_0.csv with mean frames of: 883.7431147540982\n",
      "Name is base_1-obst_0.csv with std frames of: 104.29472582049044\n",
      "Name is base_1-obst_0.csv with min frames of: 672.72\n",
      "Name is base_1-obst_0.csv with Q1 frames of: 816.41\n",
      "Name is base_1-obst_0.csv with median frames of: 886.76\n",
      "Name is base_1-obst_0.csv with Q2 frames of: 950.86\n",
      "Name is base_1-obst_0.csv with max frames of: 1134.73\n"
     ]
    }
   ],
   "source": [
    "standard_keys = list(standard_data.keys())\n",
    "mean = []\n",
    "std = []\n",
    "min_ = []\n",
    "max_ = []\n",
    "for x in standard_keys:\n",
    "    mean.append(standard_data[x][0].loc[100][\"Mean Frames\"])\n",
    "    std.append(standard_data[x][0].loc[100][\"Mean Frames\"])\n",
    "    min_.append(standard_data[x][0].loc[100][\"Min Frames\"])\n",
    "    max_.append(standard_data[x][0].loc[100][\"Max Frames\"])\n",
    "\n",
    "    print(f'Name is {x} with mean frames of: {standard_data[x][0].loc[100][\"Mean Frames\"]}')\n",
    "    print(f'Name is {x} with std frames of: {standard_data[x][0].loc[100][\"Std Frames\"]}')\n",
    "    print(f'Name is {x} with min frames of: {standard_data[x][0].loc[100][\"Min Frames\"]}')\n",
    "    print(f'Name is {x} with Q1 frames of: {standard_data[x][0].loc[100][\"Q1 Frames\"]}')\n",
    "    print(f'Name is {x} with median frames of: {standard_data[x][0].loc[100][\"Median Frames\"]}')\n",
    "    print(f'Name is {x} with Q2 frames of: {standard_data[x][0].loc[100][\"Q3 Frames\"]}')\n",
    "    print(f'Name is {x} with max frames of: {standard_data[x][0].loc[100][\"Max Frames\"]}')"
   ]
  },
  {
   "cell_type": "code",
   "execution_count": 71,
   "id": "472f2b82",
   "metadata": {
    "scrolled": true
   },
   "outputs": [
    {
     "name": "stdout",
     "output_type": "stream",
     "text": [
      "[[1221.704918032787, 1249.6065573770493, 1275.8360655737704, 1227.5081967213114, 1253.9344262295083, 1257.4918032786886, 1257.1475409836066, 1227.4098360655737, 1232.8360655737704, 1254.2295081967213, 1253.2459016393443, 1278.0983606557377, 1215.0983606557377, 1239.1311475409836, 1261.0655737704917, 1229.0655737704917, 1199.344262295082, 1233.9344262295083, 1238.5245901639344, 1225.032786885246, 1272.639344262295, 1253.5901639344263, 1247.9344262295083, 1209.688524590164, 1252.8360655737704, 1218.1639344262296, 1225.0819672131147, 1269.967213114754, 1215.4918032786886, 1207.344262295082, 1256.327868852459, 1246.1147540983607, 1236.704918032787, 1221.72131147541, 1223.5737704918033, 1254.4918032786886, 1236.1475409836066, 1267.5245901639344, 1275.032786885246, 1251.0819672131147, 1242.5409836065573, 1233.704918032787, 1218.8688524590164, 1256.8524590163934, 1243.4590163934427, 1248.2295081967213, 1237.1475409836066, 1268.704918032787, 1223.6065573770493, 1228.5081967213114, 1254.4754098360656, 1207.688524590164, 1219.344262295082, 1233.4590163934427, 1248.8032786885246, 1235.327868852459, 1253.360655737705, 1231.72131147541, 1257.311475409836, 1237.344262295082, 1222.5737704918033, 1240.049180327869, 1222.655737704918, 1243.1147540983607, 1265.8688524590164, 1251.016393442623, 1235.0983606557377, 1276.377049180328, 1231.7377049180327, 1244.7868852459017, 1225.8196721311476, 1189.016393442623, 1216.3934426229507, 1254.950819672131, 1250.360655737705, 1263.688524590164, 1249.049180327869, 1261.0, 1246.5409836065573, 1291.2295081967213, 1216.2295081967213, 1242.5245901639344, 1221.1475409836066, 1218.2622950819673, 1244.72131147541, 1228.311475409836, 1191.5737704918033, 1221.983606557377, 1301.8852459016393, 1223.049180327869, 1240.2622950819673, 1265.2459016393443, 1205.688524590164, 1244.2459016393443, 1236.327868852459, 1202.1475409836066, 1224.983606557377, 1255.1639344262296, 1225.311475409836, 1217.0983606557377, 1239.5965573770493], [1305.4098360655737, 1281.5409836065573, 1274.1803278688524, 1252.8688524590164, 1285.2295081967213, 1252.4262295081967, 1304.8524590163934, 1285.9180327868853, 1257.950819672131, 1324.4754098360656, 1240.5901639344263, 1324.5245901639344, 1253.7868852459017, 1285.2166666666667, 1256.5901639344263, 1293.1803278688524, 1242.622950819672, 1276.2459016393443, 1299.3934426229507, 1268.049180327869, 1270.0819672131147, 1243.639344262295, 1265.377049180328, 1249.4426229508197, 1293.5573770491803, 1280.8688524590164, 1252.27868852459, 1273.6065573770493, 1287.049180327869, 1268.0, 1284.9344262295083, 1269.295081967213, 1268.655737704918, 1256.72131147541, 1271.8196721311476, 1288.7868852459017, 1271.7540983606557, 1275.0819672131147, 1290.7704918032787, 1270.8360655737704, 1288.311475409836, 1273.311475409836, 1252.016393442623, 1263.1311475409836, 1289.8852459016393, 1294.0, 1253.0819672131147, 1286.327868852459, 1251.2295081967213, 1261.032786885246, 1300.9344262295083, 1289.5901639344263, 1253.4918032786886, 1266.4918032786886, 1261.8688524590164, 1307.5081967213114, 1294.377049180328, 1286.5409836065573, 1295.622950819672, 1272.5573770491803, 1238.8852459016393, 1298.7540983606557, 1236.967213114754, 1294.5901639344263, 1299.0983606557377, 1306.4918032786886, 1267.049180327869, 1283.295081967213, 1324.8032786885246, 1261.0819672131147, 1273.327868852459, 1290.8032786885246, 1263.1639344262296, 1305.8032786885246, 1240.4098360655737, 1273.1639344262296, 1301.049180327869, 1277.1639344262296, 1255.8524590163934, 1296.5901639344263, 1236.5409836065573, 1290.9180327868853, 1254.5573770491803, 1297.2131147540983, 1294.2131147540983, 1266.8032786885246, 1345.5245901639344, 1281.0833333333333, 1286.0, 1261.8360655737704, 1292.9180327868853, 1269.1803278688524, 1294.8524590163934, 1261.6065573770493, 1286.2622950819673, 1337.5409836065573, 1284.4590163934427, 1299.1475409836066, 1266.377049180328, 1288.0655737704917, 1278.223655737705], [1284.672131147541, 1281.2459016393443, 1298.5901639344263, 1257.1475409836066, 1245.8688524590164, 1266.9180327868853, 1228.5245901639344, 1343.1147540983607, 1274.5737704918033, 1300.4262295081967, 1254.311475409836, 1318.27868852459, 1345.360655737705, 1301.672131147541, 1303.049180327869, 1307.27868852459, 1285.1967213114754, 1274.032786885246, 1260.049180327869, 1305.983606557377, 1258.7704918032787, 1297.2459016393443, 1310.5081967213114, 1313.72131147541, 1304.672131147541, 1305.0819672131147, 1264.8524590163934, 1279.6065573770493, 1302.4098360655737, 1261.1967213114754, 1270.0655737704917, 1329.1639344262296, 1294.5573770491803, 1272.688524590164, 1269.1803278688524, 1302.8524590163934, 1251.672131147541, 1280.72131147541, 1311.950819672131, 1304.1475409836066, 1263.0655737704917, 1244.1147540983607, 1321.704918032787, 1299.1967213114754, 1265.5245901639344, 1330.9180327868853, 1307.967213114754, 1307.4754098360656, 1287.622950819672, 1297.3934426229507, 1274.4262295081967, 1316.622950819672, 1295.7377049180327, 1333.1803278688524, 1281.9344262295083, 1297.311475409836, 1285.5573770491803, 1273.8688524590164, 1280.295081967213, 1259.2131147540983, 1261.704918032787, 1265.622950819672, 1260.7704918032787, 1298.622950819672, 1291.8524590163934, 1313.327868852459, 1287.5081967213114, 1286.9344262295083, 1292.377049180328, 1289.377049180328, 1259.360655737705, 1282.2295081967213, 1288.8360655737704, 1250.1475409836066, 1272.622950819672, 1292.5901639344263, 1261.4754098360656, 1293.688524590164, 1252.5573770491803, 1277.8688524590164, 1238.311475409836, 1286.2622950819673, 1278.4754098360656, 1288.5901639344263, 1263.2622950819673, 1272.1147540983607, 1369.5737704918033, 1296.049180327869, 1266.27868852459, 1284.8852459016393, 1358.1967213114754, 1277.1639344262296, 1274.655737704918, 1269.049180327869, 1298.5245901639344, 1250.0, 1287.1803278688524, 1275.2459016393443, 1324.3, 1270.1475409836066, 1286.522344262295], [1236.639344262295, 1273.0819672131147, 1241.672131147541, 1266.967213114754, 1274.622950819672, 1249.4590163934427, 1219.1475409836066, 1264.4098360655737, 1257.9344262295083, 1258.3934426229507, 1244.672131147541, 1239.0983606557377, 1274.1967213114754, 1233.5081967213114, 1243.4590163934427, 1296.032786885246, 1245.1475409836066, 1287.7704918032787, 1252.688524590164, 1298.0819672131147, 1289.5081967213114, 1234.7377049180327, 1246.4590163934427, 1252.327868852459, 1291.672131147541, 1252.8524590163934, 1275.344262295082, 1289.1803278688524, 1269.3934426229507, 1269.8032786885246, 1240.016393442623, 1266.2295081967213, 1263.327868852459, 1216.049180327869, 1278.5901639344263, 1225.4426229508197, 1269.2622950819673, 1260.950819672131, 1236.8524590163934, 1256.5081967213114, 1259.5573770491803, 1263.360655737705, 1237.0819672131147, 1246.295081967213, 1213.7868852459017, 1238.7540983606557, 1252.72131147541, 1260.2459016393443, 1249.1639344262296, 1288.049180327869, 1260.0983606557377, 1258.3934426229507, 1244.2622950819673, 1255.7704918032787, 1233.016393442623, 1241.2295081967213, 1278.950819672131, 1278.9180327868853, 1259.4098360655737, 1224.8524590163934, 1250.8524590163934, 1221.295081967213, 1247.4590163934427, 1259.377049180328, 1252.344262295082, 1213.7377049180327, 1258.622950819672, 1251.3934426229507, 1246.0655737704917, 1258.1967213114754, 1232.327868852459, 1280.032786885246, 1241.032786885246, 1286.295081967213, 1236.8196721311476, 1241.8360655737704, 1259.2459016393443, 1250.950819672131, 1276.5737704918033, 1268.311475409836, 1248.639344262295, 1261.327868852459, 1258.360655737705, 1305.6065573770493, 1226.1475409836066, 1256.0, 1259.0655737704917, 1237.8032786885246, 1276.27868852459, 1236.0655737704917, 1227.5901639344263, 1239.3934426229507, 1285.9180327868853, 1255.7540983606557, 1243.4098360655737, 1273.360655737705, 1263.9180327868853, 1235.2459016393443, 1233.9180327868853, 1300.4590163934427, 1255.424426229508]]\n"
     ]
    }
   ],
   "source": [
    "# names = [\n",
    "#     'scenario_1-setting_1.csv',\n",
    "#     'scenario_2-setting_1.csv',\n",
    "#     'scenario_3-setting_1.csv',\n",
    "#     'scenario_4-setting_1.csv',\n",
    "#     'scenario_1-setting_2.csv',\n",
    "#     'scenario_2-setting_2.csv',\n",
    "#     'scenario_3-setting_2.csv',\n",
    "#     'scenario_4-setting_2.csv',\n",
    "#     'scenario_1-setting_3.csv',\n",
    "#     'scenario_2-setting_3.csv',\n",
    "#     'scenario_3-setting_3.csv',\n",
    "#     'scenario_4-setting_3.csv'\n",
    "# ]\n",
    "\n",
    "# standard_data = {}\n",
    "\n",
    "#for x in names:\n",
    "#    standard_data[x] = readfile(x)\n",
    "avgsetting1 = []\n",
    "for x in standard_keys:\n",
    "    if x[11:] == 'setting_1.csv':\n",
    "        avgsetting1.append(list(standard_data[x][0].loc[0:100]['Mean Frames']))\n",
    "print(avgsetting1)"
   ]
  },
  {
   "cell_type": "code",
   "execution_count": 76,
   "id": "a7b5372a",
   "metadata": {},
   "outputs": [
    {
     "name": "stdout",
     "output_type": "stream",
     "text": [
      "[1221.704918032787, 1249.6065573770493, 1275.8360655737704, 1227.5081967213114, 1253.9344262295083, 1257.4918032786886, 1257.1475409836066, 1227.4098360655737, 1232.8360655737704, 1254.2295081967213, 1253.2459016393443, 1278.0983606557377, 1215.0983606557377, 1239.1311475409836, 1261.0655737704917, 1229.0655737704917, 1199.344262295082, 1233.9344262295083, 1238.5245901639344, 1225.032786885246, 1272.639344262295, 1253.5901639344263, 1247.9344262295083, 1209.688524590164, 1252.8360655737704, 1218.1639344262296, 1225.0819672131147, 1269.967213114754, 1215.4918032786886, 1207.344262295082, 1256.327868852459, 1246.1147540983607, 1236.704918032787, 1221.72131147541, 1223.5737704918033, 1254.4918032786886, 1236.1475409836066, 1267.5245901639344, 1275.032786885246, 1251.0819672131147, 1242.5409836065573, 1233.704918032787, 1218.8688524590164, 1256.8524590163934, 1243.4590163934427, 1248.2295081967213, 1237.1475409836066, 1268.704918032787, 1223.6065573770493, 1228.5081967213114, 1254.4754098360656, 1207.688524590164, 1219.344262295082, 1233.4590163934427, 1248.8032786885246, 1235.327868852459, 1253.360655737705, 1231.72131147541, 1257.311475409836, 1237.344262295082, 1222.5737704918033, 1240.049180327869, 1222.655737704918, 1243.1147540983607, 1265.8688524590164, 1251.016393442623, 1235.0983606557377, 1276.377049180328, 1231.7377049180327, 1244.7868852459017, 1225.8196721311476, 1189.016393442623, 1216.3934426229507, 1254.950819672131, 1250.360655737705, 1263.688524590164, 1249.049180327869, 1261.0, 1246.5409836065573, 1291.2295081967213, 1216.2295081967213, 1242.5245901639344, 1221.1475409836066, 1218.2622950819673, 1244.72131147541, 1228.311475409836, 1191.5737704918033, 1221.983606557377, 1301.8852459016393, 1223.049180327869, 1240.2622950819673, 1265.2459016393443, 1205.688524590164, 1244.2459016393443, 1236.327868852459, 1202.1475409836066, 1224.983606557377, 1255.1639344262296, 1225.311475409836, 1217.0983606557377, 1239.5965573770493]\n"
     ]
    }
   ],
   "source": [
    "print(avgsetting1[0])"
   ]
  },
  {
   "cell_type": "code",
   "execution_count": 100,
   "id": "fb65565f",
   "metadata": {},
   "outputs": [
    {
     "name": "stdout",
     "output_type": "stream",
     "text": [
      "ANOVA F-score between settings: \n",
      "f_score = 93.47086082481312, p=7.41924285811945e-46\n",
      "ANOVA F-score between settings: \n",
      "f_score = 0.18634458959822528, p=0.833109956745472\n"
     ]
    }
   ],
   "source": [
    "f_score, p = f_oneway(avgsetting1[0], avgsetting1[1], avgsetting1[2], avgsetting1[3])\n",
    "print(f\"ANOVA F-score between settings: \\nf_score = {f_score}, p={p}\")\n",
    "\n",
    "\n",
    "a1 = [170, 160, 149, 162] \n",
    "a2 = [174, 157, 154, 168]\n",
    "a3 = [180, 163, 148, 168]\n",
    "f_score, p = f_oneway(a1, a2, a3)\n",
    "print(f\"ANOVA F-score between settings: \\nf_score = {f_score}, p={p}\")"
   ]
  },
  {
   "cell_type": "code",
   "execution_count": null,
   "id": "17532eac",
   "metadata": {},
   "outputs": [],
   "source": [
    "value_1 = power_avgs[0:4]\n",
    "value_2 = power_avgs[4:8]\n",
    "value_3 = power_avgs[8:12]\n",
    "f_score, p = f_oneway(value_1, value_2, value_3)\n",
    "print(f\"ANOVA F-score between act-values: \\nf_score = {f_score}, p={p}\")"
   ]
  }
 ],
 "metadata": {
  "kernelspec": {
   "display_name": "Python 3 (ipykernel)",
   "language": "python",
   "name": "python3"
  },
  "language_info": {
   "codemirror_mode": {
    "name": "ipython",
    "version": 3
   },
   "file_extension": ".py",
   "mimetype": "text/x-python",
   "name": "python",
   "nbconvert_exporter": "python",
   "pygments_lexer": "ipython3",
   "version": "3.9.13"
  }
 },
 "nbformat": 4,
 "nbformat_minor": 5
}
