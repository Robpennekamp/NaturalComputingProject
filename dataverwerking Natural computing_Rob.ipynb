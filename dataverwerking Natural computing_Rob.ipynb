{
 "cells": [
  {
   "cell_type": "code",
   "execution_count": 1,
   "id": "e165badd",
   "metadata": {},
   "outputs": [],
   "source": [
    "import pandas as pd\n",
    "import matplotlib.pyplot as plt\n",
    "import numpy as np\n",
    "import os\n",
    "import math\n",
    "from scipy.stats import f_oneway\n",
    "\n",
    "def readfile(filename):\n",
    "    # Get the data from the file\n",
    "    file = os.path.join(os.getcwd(), 'output', 'files', str(filename))\n",
    "    df = pd.read_csv(file, index_col=False)\n",
    "\n",
    "    # Drop unnecessary columns, get exit and entry frame.\n",
    "    df = df.drop(['Cell kind', 'Coordinates'], axis=1)\n",
    "    df['exit'] = df.loc[df['Event'] == 'exit', 'Frame'].astype(float)\n",
    "    df['entry'] = df.loc[df['Event'] == 'entry', 'Frame'].astype(float)\n",
    "    df = df.drop(['Event', 'Frame'], axis=1)\n",
    "\n",
    "    # Get run number\n",
    "    df['Run'] = np.nan\n",
    "    run = 1\n",
    "    for i, row in df.iterrows():\n",
    "        if row[0] == 'ID':\n",
    "            run += 1\n",
    "        else:\n",
    "            df.at[i, 'Run'] = run\n",
    "\n",
    "    # Group runs and remove info of cells which haven't finished (last 20)\n",
    "    df = df[df['ID'] != 'ID']\n",
    "    dfs = [x for _, x in df.groupby('Run')]\n",
    "    for i in range(len(dfs)):\n",
    "        dfs[i] = dfs[i].groupby(['ID'], as_index=False).first()\n",
    "    df = pd.concat(dfs)\n",
    "    df = df.dropna(subset=['exit'])\n",
    "\n",
    "    # Remove first 20 cells due to uninhibited movement\n",
    "    for run in df['Run'].unique():\n",
    "        ids_to_remove = df[df['Run'] == run]['ID'].unique()[:20]\n",
    "        df = df[~((df['Run'] == run) & (df['ID'].isin(ids_to_remove)))]\n",
    "\n",
    "    # Casting dtypes\n",
    "    df['Frames'] = df['exit'].astype(float) - df['entry'].astype(float)\n",
    "    df['Run'] = df['Run'].astype(int)\n",
    "    runs = df['Run'].unique()\n",
    "\n",
    "    # Creating final dataframe\n",
    "    summary_df = pd.DataFrame(columns=['Run', 'Mean Frames', 'Std Frames', 'Min Frames', 'Max Frames',\n",
    "                                       'Median Frames', 'Q1 Frames', 'Q3 Frames'])\n",
    "\n",
    "    for run in df['Run'].unique():\n",
    "        df_run = df[df['Run'] == run]\n",
    "        mean_frames = df_run['Frames'].mean()\n",
    "        std_frames = df_run['Frames'].std()\n",
    "        min_frames = df_run['Frames'].min()\n",
    "        max_frames = df_run['Frames'].max()\n",
    "        median_frames = df_run['Frames'].median()\n",
    "        q1_frames = df_run['Frames'].quantile(0.25)\n",
    "        q3_frames = df_run['Frames'].quantile(0.75)\n",
    "\n",
    "        row = pd.DataFrame({'Run': [run], 'Mean Frames': [mean_frames], 'Std Frames': [std_frames],\n",
    "                            'Min Frames': [min_frames], 'Max Frames': [max_frames],\n",
    "                            'Median Frames': [median_frames], 'Q1 Frames': [q1_frames], 'Q3 Frames': [q3_frames]})\n",
    "\n",
    "        summary_df = pd.concat([summary_df, row], ignore_index=True)\n",
    "\n",
    "    # Creating final averaging row\n",
    "    average_all_runs = summary_df.mean().to_frame().T\n",
    "    average_all_runs['Run'] = 'Average'\n",
    "    summary_df = pd.concat([summary_df, average_all_runs], ignore_index=True)\n",
    "\n",
    "    return summary_df, df\n"
   ]
  },
  {
   "cell_type": "code",
   "execution_count": 2,
   "id": "53398391",
   "metadata": {
    "scrolled": false
   },
   "outputs": [
    {
     "name": "stderr",
     "output_type": "stream",
     "text": [
      "C:\\Users\\jfava\\AppData\\Local\\Temp\\ipykernel_10392\\571102001.py:11: ParserWarning: Length of header or names does not match length of data. This leads to a loss of data with index_col=False.\n",
      "  df = pd.read_csv(file, index_col=False)\n",
      "C:\\Users\\jfava\\AppData\\Local\\Temp\\ipykernel_10392\\571102001.py:11: ParserWarning: Length of header or names does not match length of data. This leads to a loss of data with index_col=False.\n",
      "  df = pd.read_csv(file, index_col=False)\n",
      "C:\\Users\\jfava\\AppData\\Local\\Temp\\ipykernel_10392\\571102001.py:11: ParserWarning: Length of header or names does not match length of data. This leads to a loss of data with index_col=False.\n",
      "  df = pd.read_csv(file, index_col=False)\n",
      "C:\\Users\\jfava\\AppData\\Local\\Temp\\ipykernel_10392\\571102001.py:11: ParserWarning: Length of header or names does not match length of data. This leads to a loss of data with index_col=False.\n",
      "  df = pd.read_csv(file, index_col=False)\n",
      "C:\\Users\\jfava\\AppData\\Local\\Temp\\ipykernel_10392\\571102001.py:11: ParserWarning: Length of header or names does not match length of data. This leads to a loss of data with index_col=False.\n",
      "  df = pd.read_csv(file, index_col=False)\n",
      "C:\\Users\\jfava\\AppData\\Local\\Temp\\ipykernel_10392\\571102001.py:11: ParserWarning: Length of header or names does not match length of data. This leads to a loss of data with index_col=False.\n",
      "  df = pd.read_csv(file, index_col=False)\n",
      "C:\\Users\\jfava\\AppData\\Local\\Temp\\ipykernel_10392\\571102001.py:11: ParserWarning: Length of header or names does not match length of data. This leads to a loss of data with index_col=False.\n",
      "  df = pd.read_csv(file, index_col=False)\n",
      "C:\\Users\\jfava\\AppData\\Local\\Temp\\ipykernel_10392\\571102001.py:11: ParserWarning: Length of header or names does not match length of data. This leads to a loss of data with index_col=False.\n",
      "  df = pd.read_csv(file, index_col=False)\n"
     ]
    }
   ],
   "source": [
    "filenames = ['lambda_act_100_setting_1.csv',\n",
    "            'lambda_act_100_setting_2.csv',\n",
    "            'lambda_act_100_setting_3.csv',\n",
    "            'lambda_act_100_setting_4.csv',\n",
    "            'lambda_act_200_setting_1.csv',\n",
    "            'lambda_act_200_setting_2.csv',\n",
    "            'lambda_act_200_setting_3.csv',\n",
    "            'lambda_act_200_setting_4.csv',\n",
    "            'lambda_act_300_setting_1.csv',\n",
    "            'lambda_act_300_setting_2.csv',\n",
    "            'lambda_act_300_setting_3.csv',\n",
    "            'lambda_act_300_setting_4.csv']\n",
    "\n",
    "all_data = {}\n",
    "for file in filenames:\n",
    "    all_data[file] = readfile(file)"
   ]
  },
  {
   "cell_type": "code",
   "execution_count": 3,
   "id": "1fd54f8b",
   "metadata": {
    "scrolled": true
   },
   "outputs": [
    {
     "ename": "NameError",
     "evalue": "name 'summary_df' is not defined",
     "output_type": "error",
     "traceback": [
      "\u001b[1;31m---------------------------------------------------------------------------\u001b[0m",
      "\u001b[1;31mNameError\u001b[0m                                 Traceback (most recent call last)",
      "\u001b[1;32m~\\AppData\\Local\\Temp\\ipykernel_10392\\825135660.py\u001b[0m in \u001b[0;36m<module>\u001b[1;34m\u001b[0m\n\u001b[0;32m      3\u001b[0m \u001b[1;31m# Maak een plot voor het gemiddeld aantal frames per run\u001b[0m\u001b[1;33m\u001b[0m\u001b[1;33m\u001b[0m\u001b[0m\n\u001b[0;32m      4\u001b[0m \u001b[0mplt\u001b[0m\u001b[1;33m.\u001b[0m\u001b[0mfigure\u001b[0m\u001b[1;33m(\u001b[0m\u001b[0mfigsize\u001b[0m\u001b[1;33m=\u001b[0m\u001b[1;33m(\u001b[0m\u001b[1;36m10\u001b[0m\u001b[1;33m,\u001b[0m\u001b[1;36m6\u001b[0m\u001b[1;33m)\u001b[0m\u001b[1;33m)\u001b[0m\u001b[1;33m\u001b[0m\u001b[1;33m\u001b[0m\u001b[0m\n\u001b[1;32m----> 5\u001b[1;33m \u001b[0mplt\u001b[0m\u001b[1;33m.\u001b[0m\u001b[0mplot\u001b[0m\u001b[1;33m(\u001b[0m\u001b[0msummary_df\u001b[0m\u001b[1;33m[\u001b[0m\u001b[1;34m'Run'\u001b[0m\u001b[1;33m]\u001b[0m\u001b[1;33m[\u001b[0m\u001b[1;33m:\u001b[0m\u001b[1;33m-\u001b[0m\u001b[1;36m1\u001b[0m\u001b[1;33m]\u001b[0m\u001b[1;33m,\u001b[0m \u001b[0msummary_df\u001b[0m\u001b[1;33m[\u001b[0m\u001b[1;34m'Mean Frames'\u001b[0m\u001b[1;33m]\u001b[0m\u001b[1;33m[\u001b[0m\u001b[1;33m:\u001b[0m\u001b[1;33m-\u001b[0m\u001b[1;36m1\u001b[0m\u001b[1;33m]\u001b[0m\u001b[1;33m)\u001b[0m  \u001b[1;31m# we sluiten het laatste gemiddelde uit\u001b[0m\u001b[1;33m\u001b[0m\u001b[1;33m\u001b[0m\u001b[0m\n\u001b[0m\u001b[0;32m      6\u001b[0m \u001b[0mplt\u001b[0m\u001b[1;33m.\u001b[0m\u001b[0mxlabel\u001b[0m\u001b[1;33m(\u001b[0m\u001b[1;34m'Run'\u001b[0m\u001b[1;33m)\u001b[0m\u001b[1;33m\u001b[0m\u001b[1;33m\u001b[0m\u001b[0m\n\u001b[0;32m      7\u001b[0m \u001b[0mplt\u001b[0m\u001b[1;33m.\u001b[0m\u001b[0mylabel\u001b[0m\u001b[1;33m(\u001b[0m\u001b[1;34m'Gemiddeld aantal Frames'\u001b[0m\u001b[1;33m)\u001b[0m\u001b[1;33m\u001b[0m\u001b[1;33m\u001b[0m\u001b[0m\n",
      "\u001b[1;31mNameError\u001b[0m: name 'summary_df' is not defined"
     ]
    },
    {
     "data": {
      "text/plain": [
       "<Figure size 1000x600 with 0 Axes>"
      ]
     },
     "metadata": {},
     "output_type": "display_data"
    }
   ],
   "source": [
    "import matplotlib.pyplot as plt\n",
    "\n",
    "# Maak een plot voor het gemiddeld aantal frames per run\n",
    "plt.figure(figsize=(10,6))\n",
    "plt.plot(summary_df['Run'][:-1], summary_df['Mean Frames'][:-1])  # we sluiten het laatste gemiddelde uit\n",
    "plt.xlabel('Run')\n",
    "plt.ylabel('Gemiddeld aantal Frames')\n",
    "plt.title('Gemiddeld aantal frames per run')\n",
    "plt.grid(True)\n",
    "plt.show()\n",
    "\n",
    "# Maak een histogram van de gemiddelde frames\n",
    "plt.figure(figsize=(10,6))\n",
    "plt.hist(full_df['Frames'], bins=20, edgecolor='black')\n",
    "plt.xlabel('Aantal Frames')\n",
    "plt.ylabel('Frequentie')\n",
    "plt.title('Histogram van het aantal Frames')\n",
    "plt.grid(True)\n",
    "plt.show()\n",
    "\n",
    "# Boxplot van Frames per Run\n",
    "full_df.boxplot(column='Frames', by='Run', figsize=(10,6))\n",
    "plt.title('Boxplot van Frames per Run')\n",
    "plt.suptitle('')  # Verwijder de automatische 'Boxplot grouped by Run' titel\n",
    "plt.show()\n",
    "\n",
    "# Scatterplot van 'exit' en 'entry'\n",
    "plt.figure(figsize=(10,6))\n",
    "plt.scatter(full_df['exit'], full_df['entry'])\n",
    "plt.xlabel('Exit Frame')\n",
    "plt.ylabel('Entry Frame')\n",
    "plt.title('Scatterplot van Exit vs Entry Frames')\n",
    "plt.grid(True)\n",
    "plt.show()\n"
   ]
  },
  {
   "cell_type": "code",
   "execution_count": 4,
   "id": "7e426d87",
   "metadata": {},
   "outputs": [
    {
     "data": {
      "text/plain": [
       "-0.2577266237933793"
      ]
     },
     "execution_count": 4,
     "metadata": {},
     "output_type": "execute_result"
    }
   ],
   "source": [
    "def z_test(run1, run2):\n",
    "    data1 = all_data[run1][0]\n",
    "    data2 = all_data[run2][0]\n",
    "    avg1 = data1.loc[100]['Mean Frames']\n",
    "    avg2 = data2.loc[100]['Mean Frames']\n",
    "    std1 = data1.loc[100]['Std Frames']\n",
    "    std2 = data2.loc[100]['Std Frames']\n",
    "    return (avg1 - avg2) / (math.sqrt(std1 ** 2 + std2 ** 2))\n",
    "\n",
    "keys = list(all_data.keys())\n",
    "z_test(keys[0], keys[1])"
   ]
  },
  {
   "cell_type": "markdown",
   "id": "df936da1",
   "metadata": {},
   "source": [
    "# $\\lambda$Act Analysis\n"
   ]
  },
  {
   "cell_type": "code",
   "execution_count": 5,
   "id": "a0bcb5d1",
   "metadata": {},
   "outputs": [
    {
     "name": "stdout",
     "output_type": "stream",
     "text": [
      "Name is lambda_act_100_setting_1.csv with mean frames of: 1569.9441982310943\n",
      "Name is lambda_act_100_setting_2.csv with mean frames of: 1635.4987571476438\n",
      "Name is lambda_act_100_setting_3.csv with mean frames of: 1635.2814830444029\n",
      "Name is lambda_act_100_setting_4.csv with mean frames of: 1583.9637180551165\n",
      "Name is lambda_act_200_setting_1.csv with mean frames of: 1241.0281967213116\n",
      "Name is lambda_act_200_setting_2.csv with mean frames of: 1278.2236557377046\n",
      "Name is lambda_act_200_setting_3.csv with mean frames of: 1285.154721311475\n",
      "Name is lambda_act_200_setting_4.csv with mean frames of: 1254.4688524590165\n",
      "Name is lambda_act_300_setting_1.csv with mean frames of: 1046.1611237440507\n",
      "Name is lambda_act_300_setting_2.csv with mean frames of: 1054.4572131147543\n",
      "Name is lambda_act_300_setting_3.csv with mean frames of: 1051.1996721311475\n",
      "Name is lambda_act_300_setting_4.csv with mean frames of: 1055.4608196721313\n"
     ]
    }
   ],
   "source": [
    "for x in keys:\n",
    "    print(f'Name is {x} with mean frames of: {all_data[x][0].loc[100][\"Mean Frames\"]}')"
   ]
  },
  {
   "cell_type": "code",
   "execution_count": 6,
   "id": "b0df993c",
   "metadata": {},
   "outputs": [
    {
     "name": "stdout",
     "output_type": "stream",
     "text": [
      "ANOVA F-score between settings: \n",
      "f_score = 0.013592550779932601, p=0.9976515171042021\n"
     ]
    }
   ],
   "source": [
    "from scipy.stats import f_oneway\n",
    "averages = [all_data[x][0].loc[100]['Mean Frames'] for x in keys]\n",
    "setting_1 = [averages[x] for x in range(0, len(averages), 4)]\n",
    "setting_2 = [averages[x] for x in range(1, len(averages)+1, 4)]\n",
    "setting_3 = [averages[x] for x in range(2, len(averages)+2, 4)]\n",
    "setting_4 = [averages[x] for x in range(3, len(averages)+3, 4)]\n",
    "f_score, p = f_oneway(setting_1, setting_2, setting_3, setting_4)\n",
    "print(f\"ANOVA F-score between settings: \\nf_score = {f_score}, p={p}\")"
   ]
  },
  {
   "cell_type": "code",
   "execution_count": 7,
   "id": "6628de56",
   "metadata": {},
   "outputs": [
    {
     "name": "stdout",
     "output_type": "stream",
     "text": [
      "582.6425130305911 0.0000000003\n"
     ]
    }
   ],
   "source": [
    "value_1 = averages[0:4]\n",
    "value_2 = averages[4:8]\n",
    "value_3 = averages[8:12]\n",
    "anova_score, p = f_oneway(value_1, value_2, value_3)\n",
    "print(anova_score, '{0:.10f}'.format(p))"
   ]
  },
  {
   "cell_type": "markdown",
   "id": "59b3cbc2",
   "metadata": {},
   "source": [
    "# Cell_to_cell adhesion Analysis"
   ]
  },
  {
   "cell_type": "code",
   "execution_count": 8,
   "id": "a4900f1b",
   "metadata": {
    "scrolled": true
   },
   "outputs": [
    {
     "name": "stderr",
     "output_type": "stream",
     "text": [
      "C:\\Users\\jfava\\AppData\\Local\\Temp\\ipykernel_10392\\571102001.py:11: ParserWarning: Length of header or names does not match length of data. This leads to a loss of data with index_col=False.\n",
      "  df = pd.read_csv(file, index_col=False)\n",
      "C:\\Users\\jfava\\AppData\\Local\\Temp\\ipykernel_10392\\571102001.py:11: ParserWarning: Length of header or names does not match length of data. This leads to a loss of data with index_col=False.\n",
      "  df = pd.read_csv(file, index_col=False)\n",
      "C:\\Users\\jfava\\AppData\\Local\\Temp\\ipykernel_10392\\571102001.py:11: ParserWarning: Length of header or names does not match length of data. This leads to a loss of data with index_col=False.\n",
      "  df = pd.read_csv(file, index_col=False)\n",
      "C:\\Users\\jfava\\AppData\\Local\\Temp\\ipykernel_10392\\571102001.py:11: ParserWarning: Length of header or names does not match length of data. This leads to a loss of data with index_col=False.\n",
      "  df = pd.read_csv(file, index_col=False)\n",
      "C:\\Users\\jfava\\AppData\\Local\\Temp\\ipykernel_10392\\571102001.py:11: ParserWarning: Length of header or names does not match length of data. This leads to a loss of data with index_col=False.\n",
      "  df = pd.read_csv(file, index_col=False)\n",
      "C:\\Users\\jfava\\AppData\\Local\\Temp\\ipykernel_10392\\571102001.py:11: ParserWarning: Length of header or names does not match length of data. This leads to a loss of data with index_col=False.\n",
      "  df = pd.read_csv(file, index_col=False)\n",
      "C:\\Users\\jfava\\AppData\\Local\\Temp\\ipykernel_10392\\571102001.py:11: ParserWarning: Length of header or names does not match length of data. This leads to a loss of data with index_col=False.\n",
      "  df = pd.read_csv(file, index_col=False)\n",
      "C:\\Users\\jfava\\AppData\\Local\\Temp\\ipykernel_10392\\571102001.py:11: ParserWarning: Length of header or names does not match length of data. This leads to a loss of data with index_col=False.\n",
      "  df = pd.read_csv(file, index_col=False)\n",
      "C:\\Users\\jfava\\AppData\\Local\\Temp\\ipykernel_10392\\571102001.py:11: ParserWarning: Length of header or names does not match length of data. This leads to a loss of data with index_col=False.\n",
      "  df = pd.read_csv(file, index_col=False)\n",
      "C:\\Users\\jfava\\AppData\\Local\\Temp\\ipykernel_10392\\571102001.py:11: ParserWarning: Length of header or names does not match length of data. This leads to a loss of data with index_col=False.\n",
      "  df = pd.read_csv(file, index_col=False)\n",
      "C:\\Users\\jfava\\AppData\\Local\\Temp\\ipykernel_10392\\571102001.py:11: ParserWarning: Length of header or names does not match length of data. This leads to a loss of data with index_col=False.\n",
      "  df = pd.read_csv(file, index_col=False)\n",
      "C:\\Users\\jfava\\AppData\\Local\\Temp\\ipykernel_10392\\571102001.py:11: ParserWarning: Length of header or names does not match length of data. This leads to a loss of data with index_col=False.\n",
      "  df = pd.read_csv(file, index_col=False)\n"
     ]
    }
   ],
   "source": [
    "c2c_names = ['c2c_adh_0_setting_1.csv',\n",
    "            'c2c_adh_0_setting_2.csv',\n",
    "            'c2c_adh_0_setting_3.csv',\n",
    "            'c2c_adh_0_setting_4.csv',\n",
    "            'c2c_adh_5_setting_1.csv',\n",
    "            'c2c_adh_5_setting_2.csv',\n",
    "            'c2c_adh_5_setting_3.csv',\n",
    "            'c2c_adh_5_setting_4.csv',\n",
    "            'c2c_adh_10_setting_1.csv',\n",
    "            'c2c_adh_10_setting_2.csv',\n",
    "            'c2c_adh_10_setting_3.csv',\n",
    "            'c2c_adh_10_setting_4.csv',]\n",
    "\n",
    "c2c_data = {}\n",
    "for filename in c2c_names:\n",
    "    c2c_data[filename] = readfile(filename)"
   ]
  },
  {
   "cell_type": "code",
   "execution_count": 9,
   "id": "35ffb787",
   "metadata": {},
   "outputs": [
    {
     "name": "stdout",
     "output_type": "stream",
     "text": [
      "Name is c2c_adh_0_setting_1.csv with mean frames of: 1239.5965573770495\n",
      "Name is c2c_adh_0_setting_2.csv with mean frames of: 1280.8542622950824\n",
      "Name is c2c_adh_0_setting_3.csv with mean frames of: 1284.601803278688\n",
      "Name is c2c_adh_0_setting_4.csv with mean frames of: 1249.9285245901638\n",
      "Name is c2c_adh_5_setting_1.csv with mean frames of: 1256.882131147541\n",
      "Name is c2c_adh_5_setting_2.csv with mean frames of: 1294.8214754098356\n",
      "Name is c2c_adh_5_setting_3.csv with mean frames of: 1305.215016393443\n",
      "Name is c2c_adh_5_setting_4.csv with mean frames of: 1269.2911475409826\n",
      "Name is c2c_adh_10_setting_1.csv with mean frames of: 1272.6839344262291\n",
      "Name is c2c_adh_10_setting_2.csv with mean frames of: 1316.6831147540984\n",
      "Name is c2c_adh_10_setting_3.csv with mean frames of: 1320.296496210118\n",
      "Name is c2c_adh_10_setting_4.csv with mean frames of: 1286.5237377930546\n"
     ]
    }
   ],
   "source": [
    "c2c_keys = list(c2c_data.keys())\n",
    "for x in c2c_keys:\n",
    "    print(f'Name is {x} with mean frames of: {c2c_data[x][0].loc[100][\"Mean Frames\"]}')"
   ]
  },
  {
   "cell_type": "code",
   "execution_count": 10,
   "id": "327f7631",
   "metadata": {},
   "outputs": [
    {
     "name": "stdout",
     "output_type": "stream",
     "text": [
      "ANOVA F-score between settings: \n",
      "f_score = 4.87277861170081, p=0.03258749265358982\n"
     ]
    }
   ],
   "source": [
    "c2c_avgs = [c2c_data[x][0].loc[100]['Mean Frames'] for x in c2c_keys]\n",
    "setting_1 = [c2c_avgs[x] for x in range(0, len(c2c_avgs), 4)]\n",
    "setting_2 = [c2c_avgs[x] for x in range(1, len(c2c_avgs)+1, 4)]\n",
    "setting_3 = [c2c_avgs[x] for x in range(2, len(c2c_avgs)+2, 4)]\n",
    "setting_4 = [c2c_avgs[x] for x in range(3, len(c2c_avgs)+3, 4)]\n",
    "f_score, p = f_oneway(setting_1, setting_2, setting_3, setting_4)\n",
    "print(f\"ANOVA F-score between settings: \\nf_score = {f_score}, p={p}\")"
   ]
  },
  {
   "cell_type": "code",
   "execution_count": 11,
   "id": "398f09f3",
   "metadata": {},
   "outputs": [
    {
     "name": "stdout",
     "output_type": "stream",
     "text": [
      "ANOVA F-score between act-values: \n",
      "f_score = 2.432386945816856, p=0.14304863926137187\n"
     ]
    }
   ],
   "source": [
    "value_1 = c2c_avgs[0:4]\n",
    "value_2 = c2c_avgs[4:8]\n",
    "value_3 = c2c_avgs[8:12]\n",
    "f_score, p = f_oneway(value_1, value_2, value_3)\n",
    "print(f\"ANOVA F-score between act-values: \\nf_score = {f_score}, p={p}\")"
   ]
  },
  {
   "cell_type": "markdown",
   "id": "7f8c76ca",
   "metadata": {},
   "source": [
    "# Pushing Power analysis"
   ]
  },
  {
   "cell_type": "code",
   "execution_count": 12,
   "id": "c532d17b",
   "metadata": {},
   "outputs": [
    {
     "name": "stderr",
     "output_type": "stream",
     "text": [
      "C:\\Users\\jfava\\AppData\\Local\\Temp\\ipykernel_10392\\571102001.py:11: ParserWarning: Length of header or names does not match length of data. This leads to a loss of data with index_col=False.\n",
      "  df = pd.read_csv(file, index_col=False)\n",
      "C:\\Users\\jfava\\AppData\\Local\\Temp\\ipykernel_10392\\571102001.py:11: ParserWarning: Length of header or names does not match length of data. This leads to a loss of data with index_col=False.\n",
      "  df = pd.read_csv(file, index_col=False)\n",
      "C:\\Users\\jfava\\AppData\\Local\\Temp\\ipykernel_10392\\571102001.py:11: ParserWarning: Length of header or names does not match length of data. This leads to a loss of data with index_col=False.\n",
      "  df = pd.read_csv(file, index_col=False)\n",
      "C:\\Users\\jfava\\AppData\\Local\\Temp\\ipykernel_10392\\571102001.py:11: ParserWarning: Length of header or names does not match length of data. This leads to a loss of data with index_col=False.\n",
      "  df = pd.read_csv(file, index_col=False)\n",
      "C:\\Users\\jfava\\AppData\\Local\\Temp\\ipykernel_10392\\571102001.py:11: ParserWarning: Length of header or names does not match length of data. This leads to a loss of data with index_col=False.\n",
      "  df = pd.read_csv(file, index_col=False)\n",
      "C:\\Users\\jfava\\AppData\\Local\\Temp\\ipykernel_10392\\571102001.py:11: ParserWarning: Length of header or names does not match length of data. This leads to a loss of data with index_col=False.\n",
      "  df = pd.read_csv(file, index_col=False)\n",
      "C:\\Users\\jfava\\AppData\\Local\\Temp\\ipykernel_10392\\571102001.py:11: ParserWarning: Length of header or names does not match length of data. This leads to a loss of data with index_col=False.\n",
      "  df = pd.read_csv(file, index_col=False)\n",
      "C:\\Users\\jfava\\AppData\\Local\\Temp\\ipykernel_10392\\571102001.py:11: ParserWarning: Length of header or names does not match length of data. This leads to a loss of data with index_col=False.\n",
      "  df = pd.read_csv(file, index_col=False)\n",
      "C:\\Users\\jfava\\AppData\\Local\\Temp\\ipykernel_10392\\571102001.py:11: ParserWarning: Length of header or names does not match length of data. This leads to a loss of data with index_col=False.\n",
      "  df = pd.read_csv(file, index_col=False)\n",
      "C:\\Users\\jfava\\AppData\\Local\\Temp\\ipykernel_10392\\571102001.py:11: ParserWarning: Length of header or names does not match length of data. This leads to a loss of data with index_col=False.\n",
      "  df = pd.read_csv(file, index_col=False)\n",
      "C:\\Users\\jfava\\AppData\\Local\\Temp\\ipykernel_10392\\571102001.py:11: ParserWarning: Length of header or names does not match length of data. This leads to a loss of data with index_col=False.\n",
      "  df = pd.read_csv(file, index_col=False)\n",
      "C:\\Users\\jfava\\AppData\\Local\\Temp\\ipykernel_10392\\571102001.py:11: ParserWarning: Length of header or names does not match length of data. This leads to a loss of data with index_col=False.\n",
      "  df = pd.read_csv(file, index_col=False)\n"
     ]
    }
   ],
   "source": [
    "power_files = [\n",
    "    'scenario_1-dir_50.csv',\n",
    "    'scenario_2-dir_50.csv',\n",
    "    'scenario_3-dir_50.csv',\n",
    "    'scenario_4-dir_50.csv',\n",
    "    'scenario_1-dir_100.csv',\n",
    "    'scenario_2-dir_100.csv',\n",
    "    'scenario_3-dir_100.csv',\n",
    "    'scenario_4-dir_100.csv',\n",
    "    'scenario_1-dir_200.csv',\n",
    "    'scenario_2-dir_200.csv',\n",
    "    'scenario_3-dir_200.csv',\n",
    "    'scenario_4-dir_200.csv'\n",
    "]\n",
    "power_data = {}\n",
    "for x in power_files:\n",
    "    power_data[x] = readfile(x)"
   ]
  },
  {
   "cell_type": "code",
   "execution_count": 13,
   "id": "0e6a134e",
   "metadata": {},
   "outputs": [
    {
     "name": "stdout",
     "output_type": "stream",
     "text": [
      "Name is scenario_1-dir_50.csv with mean frames of: 2323.5615835880335\n",
      "Name is scenario_2-dir_50.csv with mean frames of: 2415.3287906442715\n",
      "Name is scenario_3-dir_50.csv with mean frames of: 2403.2929405661016\n",
      "Name is scenario_4-dir_50.csv with mean frames of: 2345.9999843938135\n",
      "Name is scenario_1-dir_100.csv with mean frames of: 1239.5965573770495\n",
      "Name is scenario_2-dir_100.csv with mean frames of: 1278.2236557377046\n",
      "Name is scenario_3-dir_100.csv with mean frames of: 1286.9199999999992\n",
      "Name is scenario_4-dir_100.csv with mean frames of: 1255.4244262295083\n",
      "Name is scenario_1-dir_200.csv with mean frames of: 975.7345901639345\n",
      "Name is scenario_2-dir_200.csv with mean frames of: 1006.6977049180325\n",
      "Name is scenario_3-dir_200.csv with mean frames of: 1002.7018032786883\n",
      "Name is scenario_4-dir_200.csv with mean frames of: 978.0706557377047\n"
     ]
    }
   ],
   "source": [
    "power_keys = list(power_data.keys())\n",
    "for x in power_keys:\n",
    "    print(f'Name is {x} with mean frames of: {power_data[x][0].loc[100][\"Mean Frames\"]}')"
   ]
  },
  {
   "cell_type": "code",
   "execution_count": 14,
   "id": "3191704e",
   "metadata": {},
   "outputs": [
    {
     "name": "stdout",
     "output_type": "stream",
     "text": [
      "ANOVA F-score between settings: \n",
      "f_score = 0.004097439502146847, p=0.9996067350993111\n"
     ]
    }
   ],
   "source": [
    "power_avgs = [power_data[x][0].loc[100]['Mean Frames'] for x in power_keys]\n",
    "setting_1 = [power_avgs[x] for x in range(0, len(power_avgs), 4)]\n",
    "setting_2 = [power_avgs[x] for x in range(1, len(power_avgs)+1, 4)]\n",
    "setting_3 = [power_avgs[x] for x in range(2, len(power_avgs)+2, 4)]\n",
    "setting_4 = [power_avgs[x] for x in range(3, len(power_avgs)+3, 4)]\n",
    "f_score, p = f_oneway(setting_1, setting_2, setting_3, setting_4)\n",
    "print(f\"ANOVA F-score between settings: \\nf_score = {f_score}, p={p}\")"
   ]
  },
  {
   "cell_type": "code",
   "execution_count": 15,
   "id": "de411070",
   "metadata": {},
   "outputs": [
    {
     "name": "stdout",
     "output_type": "stream",
     "text": [
      "ANOVA F-score between act-values: \n",
      "f_score = 2390.0451304826074, p=5.406954212489819e-13\n"
     ]
    }
   ],
   "source": [
    "value_1 = power_avgs[0:4]\n",
    "value_2 = power_avgs[4:8]\n",
    "value_3 = power_avgs[8:12]\n",
    "f_score, p = f_oneway(value_1, value_2, value_3)\n",
    "print(f\"ANOVA F-score between act-values: \\nf_score = {f_score}, p={p}\")"
   ]
  },
  {
   "cell_type": "markdown",
   "id": "fbe71d09",
   "metadata": {},
   "source": [
    "# Obstacle size Analysis"
   ]
  },
  {
   "cell_type": "code",
   "execution_count": 22,
   "id": "561ec913",
   "metadata": {},
   "outputs": [
    {
     "name": "stderr",
     "output_type": "stream",
     "text": [
      "C:\\Users\\jfava\\AppData\\Local\\Temp\\ipykernel_10392\\571102001.py:11: ParserWarning: Length of header or names does not match length of data. This leads to a loss of data with index_col=False.\n",
      "  df = pd.read_csv(file, index_col=False)\n",
      "C:\\Users\\jfava\\AppData\\Local\\Temp\\ipykernel_10392\\571102001.py:11: ParserWarning: Length of header or names does not match length of data. This leads to a loss of data with index_col=False.\n",
      "  df = pd.read_csv(file, index_col=False)\n",
      "C:\\Users\\jfava\\AppData\\Local\\Temp\\ipykernel_10392\\571102001.py:11: ParserWarning: Length of header or names does not match length of data. This leads to a loss of data with index_col=False.\n",
      "  df = pd.read_csv(file, index_col=False)\n",
      "C:\\Users\\jfava\\AppData\\Local\\Temp\\ipykernel_10392\\571102001.py:11: ParserWarning: Length of header or names does not match length of data. This leads to a loss of data with index_col=False.\n",
      "  df = pd.read_csv(file, index_col=False)\n",
      "C:\\Users\\jfava\\AppData\\Local\\Temp\\ipykernel_10392\\571102001.py:11: ParserWarning: Length of header or names does not match length of data. This leads to a loss of data with index_col=False.\n",
      "  df = pd.read_csv(file, index_col=False)\n",
      "C:\\Users\\jfava\\AppData\\Local\\Temp\\ipykernel_10392\\571102001.py:11: ParserWarning: Length of header or names does not match length of data. This leads to a loss of data with index_col=False.\n",
      "  df = pd.read_csv(file, index_col=False)\n",
      "C:\\Users\\jfava\\AppData\\Local\\Temp\\ipykernel_10392\\571102001.py:11: ParserWarning: Length of header or names does not match length of data. This leads to a loss of data with index_col=False.\n",
      "  df = pd.read_csv(file, index_col=False)\n",
      "C:\\Users\\jfava\\AppData\\Local\\Temp\\ipykernel_10392\\571102001.py:11: ParserWarning: Length of header or names does not match length of data. This leads to a loss of data with index_col=False.\n",
      "  df = pd.read_csv(file, index_col=False)\n",
      "C:\\Users\\jfava\\AppData\\Local\\Temp\\ipykernel_10392\\571102001.py:11: ParserWarning: Length of header or names does not match length of data. This leads to a loss of data with index_col=False.\n",
      "  df = pd.read_csv(file, index_col=False)\n",
      "C:\\Users\\jfava\\AppData\\Local\\Temp\\ipykernel_10392\\571102001.py:11: ParserWarning: Length of header or names does not match length of data. This leads to a loss of data with index_col=False.\n",
      "  df = pd.read_csv(file, index_col=False)\n"
     ]
    }
   ],
   "source": [
    "names = [\n",
    "    'base_1-obst_60.csv',\n",
    "    'base_1-obst_55.csv',\n",
    "    'base_1-obst_50.csv',\n",
    "    'base_1-obst_45.csv',\n",
    "    'base_1-obst_40.csv',\n",
    "    'base_1-obst_35.csv',\n",
    "    'base_1-obst_30.csv',\n",
    "    'base_1-obst_25.csv',\n",
    "    'base_1-obst_20.csv',\n",
    "    'base_1-obst_0.csv',\n",
    "]\n",
    "\n",
    "standard_data = {}\n",
    "\n",
    "for x in names:\n",
    "    standard_data[x] = readfile(x)"
   ]
  },
  {
   "cell_type": "code",
   "execution_count": 25,
   "id": "57802eda",
   "metadata": {},
   "outputs": [
    {
     "name": "stdout",
     "output_type": "stream",
     "text": [
      "Name is base_1-obst_60.csv with mean frames of: 926.9412427287149\n",
      "Name is base_1-obst_60.csv with std frames of: 91.22239994362423\n",
      "Name is base_1-obst_60.csv with min frames of: 748.69\n",
      "Name is base_1-obst_60.csv with Q1 frames of: 868.1825\n",
      "Name is base_1-obst_60.csv with median frames of: 926.81\n",
      "Name is base_1-obst_60.csv with Q2 frames of: 982.7\n",
      "Name is base_1-obst_60.csv with max frames of: 1162.04\n",
      "Name is base_1-obst_55.csv with mean frames of: 924.4044473823371\n",
      "Name is base_1-obst_55.csv with std frames of: 101.94056458818002\n",
      "Name is base_1-obst_55.csv with min frames of: 736.21\n",
      "Name is base_1-obst_55.csv with Q1 frames of: 859.1925\n",
      "Name is base_1-obst_55.csv with median frames of: 921.065\n",
      "Name is base_1-obst_55.csv with Q2 frames of: 986.46\n",
      "Name is base_1-obst_55.csv with max frames of: 1213.05\n",
      "Name is base_1-obst_50.csv with mean frames of: 916.1214754098353\n",
      "Name is base_1-obst_50.csv with std frames of: 104.47734100192098\n",
      "Name is base_1-obst_50.csv with min frames of: 726.88\n",
      "Name is base_1-obst_50.csv with Q1 frames of: 847.38\n",
      "Name is base_1-obst_50.csv with median frames of: 913.42\n",
      "Name is base_1-obst_50.csv with Q2 frames of: 979.82\n",
      "Name is base_1-obst_50.csv with max frames of: 1215.0\n",
      "Name is base_1-obst_45.csv with mean frames of: 907.6704918032781\n",
      "Name is base_1-obst_45.csv with std frames of: 97.57895307069727\n",
      "Name is base_1-obst_45.csv with min frames of: 723.08\n",
      "Name is base_1-obst_45.csv with Q1 frames of: 844.38\n",
      "Name is base_1-obst_45.csv with median frames of: 908.09\n",
      "Name is base_1-obst_45.csv with Q2 frames of: 969.93\n",
      "Name is base_1-obst_45.csv with max frames of: 1166.51\n",
      "Name is base_1-obst_40.csv with mean frames of: 899.8966657852989\n",
      "Name is base_1-obst_40.csv with std frames of: 96.4452076347211\n",
      "Name is base_1-obst_40.csv with min frames of: 717.18\n",
      "Name is base_1-obst_40.csv with Q1 frames of: 835.33\n",
      "Name is base_1-obst_40.csv with median frames of: 902.88\n",
      "Name is base_1-obst_40.csv with Q2 frames of: 963.18\n",
      "Name is base_1-obst_40.csv with max frames of: 1134.33\n",
      "Name is base_1-obst_35.csv with mean frames of: 899.6028873611848\n",
      "Name is base_1-obst_35.csv with std frames of: 97.2975747935971\n",
      "Name is base_1-obst_35.csv with min frames of: 709.72\n",
      "Name is base_1-obst_35.csv with Q1 frames of: 836.03\n",
      "Name is base_1-obst_35.csv with median frames of: 903.005\n",
      "Name is base_1-obst_35.csv with Q2 frames of: 963.8125\n",
      "Name is base_1-obst_35.csv with max frames of: 1125.16\n",
      "Name is base_1-obst_30.csv with mean frames of: 894.4544658910627\n",
      "Name is base_1-obst_30.csv with std frames of: 97.61019137379806\n",
      "Name is base_1-obst_30.csv with min frames of: 704.67\n",
      "Name is base_1-obst_30.csv with Q1 frames of: 831.1775\n",
      "Name is base_1-obst_30.csv with median frames of: 896.515\n",
      "Name is base_1-obst_30.csv with Q2 frames of: 956.82\n",
      "Name is base_1-obst_30.csv with max frames of: 1138.77\n",
      "Name is base_1-obst_25.csv with mean frames of: 890.6402009518769\n",
      "Name is base_1-obst_25.csv with std frames of: 99.2494587066034\n",
      "Name is base_1-obst_25.csv with min frames of: 696.51\n",
      "Name is base_1-obst_25.csv with Q1 frames of: 825.3775\n",
      "Name is base_1-obst_25.csv with median frames of: 892.57\n",
      "Name is base_1-obst_25.csv with Q2 frames of: 956.31\n",
      "Name is base_1-obst_25.csv with max frames of: 1123.88\n",
      "Name is base_1-obst_20.csv with mean frames of: 887.7655023796931\n",
      "Name is base_1-obst_20.csv with std frames of: 100.42754158575885\n",
      "Name is base_1-obst_20.csv with min frames of: 693.54\n",
      "Name is base_1-obst_20.csv with Q1 frames of: 821.71\n",
      "Name is base_1-obst_20.csv with median frames of: 890.18\n",
      "Name is base_1-obst_20.csv with Q2 frames of: 953.4425\n",
      "Name is base_1-obst_20.csv with max frames of: 1138.76\n",
      "Name is base_1-obst_0.csv with mean frames of: 883.7431147540982\n",
      "Name is base_1-obst_0.csv with std frames of: 104.29472582049044\n",
      "Name is base_1-obst_0.csv with min frames of: 672.72\n",
      "Name is base_1-obst_0.csv with Q1 frames of: 816.41\n",
      "Name is base_1-obst_0.csv with median frames of: 886.76\n",
      "Name is base_1-obst_0.csv with Q2 frames of: 950.86\n",
      "Name is base_1-obst_0.csv with max frames of: 1134.73\n"
     ]
    }
   ],
   "source": [
    "standard_keys = list(standard_data.keys())\n",
    "mean = []\n",
    "std = []\n",
    "min_ = []\n",
    "max_ = []\n",
    "for x in standard_keys:\n",
    "    mean.append(standard_data[x][0].loc[100][\"Mean Frames\"])\n",
    "    std.append(standard_data[x][0].loc[100][\"Mean Frames\"])\n",
    "    min_.append(standard_data[x][0].loc[100][\"Min Frames\"])\n",
    "    max_.append(standard_data[x][0].loc[100][\"Max Frames\"])\n",
    "\n",
    "    print(f'Name is {x} with mean frames of: {standard_data[x][0].loc[100][\"Mean Frames\"]}')\n",
    "    print(f'Name is {x} with std frames of: {standard_data[x][0].loc[100][\"Std Frames\"]}')\n",
    "    print(f'Name is {x} with min frames of: {standard_data[x][0].loc[100][\"Min Frames\"]}')\n",
    "    print(f'Name is {x} with Q1 frames of: {standard_data[x][0].loc[100][\"Q1 Frames\"]}')\n",
    "    print(f'Name is {x} with median frames of: {standard_data[x][0].loc[100][\"Median Frames\"]}')\n",
    "    print(f'Name is {x} with Q2 frames of: {standard_data[x][0].loc[100][\"Q3 Frames\"]}')\n",
    "    print(f'Name is {x} with max frames of: {standard_data[x][0].loc[100][\"Max Frames\"]}')"
   ]
  },
  {
   "cell_type": "code",
   "execution_count": null,
   "id": "84edb63d",
   "metadata": {},
   "outputs": [],
   "source": []
  }
 ],
 "metadata": {
  "kernelspec": {
   "display_name": "Python 3 (ipykernel)",
   "language": "python",
   "name": "python3"
  },
  "language_info": {
   "codemirror_mode": {
    "name": "ipython",
    "version": 3
   },
   "file_extension": ".py",
   "mimetype": "text/x-python",
   "name": "python",
   "nbconvert_exporter": "python",
   "pygments_lexer": "ipython3",
   "version": "3.9.13"
  }
 },
 "nbformat": 4,
 "nbformat_minor": 5
}
